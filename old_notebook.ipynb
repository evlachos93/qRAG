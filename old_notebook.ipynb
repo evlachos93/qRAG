{
 "cells": [
  {
   "cell_type": "markdown",
   "metadata": {},
   "source": [
    "# To-Do List\n",
    "\n",
    "1. Explore different embeddings\n",
    "2. Add better metadata to chunks"
   ]
  },
  {
   "cell_type": "markdown",
   "metadata": {},
   "source": [
    "# Import Libraries"
   ]
  },
  {
   "cell_type": "code",
   "execution_count": 1,
   "metadata": {},
   "outputs": [
    {
     "name": "stdout",
     "output_type": "stream",
     "text": [
      "utils.py loaded\n"
     ]
    }
   ],
   "source": [
    "from langchain.text_splitter import RecursiveCharacterTextSplitter\n",
    "# from langchain_community.document_loaders import WebBaseLoader, LocalBaseLoader, LocalFolderLoader, LocalFileLoader, LocalFolderLoader\n",
    "from langchain_community.vectorstores import Chroma\n",
    "from groq import Groq\n",
    "from langchain_groq import ChatGroq\n",
    "from src.utils import *\n",
    "from langchain_community.embeddings.fastembed import FastEmbedEmbeddings\n",
    "import os\n",
    "from dotenv import load_dotenv"
   ]
  },
  {
   "cell_type": "code",
   "execution_count": 2,
   "metadata": {},
   "outputs": [],
   "source": [
    "# import api keys\n",
    "# .\\qrag-env\\Scripts\\activate # command to activate virtual environment in terminal\n",
    "load_dotenv()\n",
    "groq_api_key = os.getenv(\"groq_api_key\")\n",
    "openai_api_key = os.getenv(\"chatgpt.gpt3.apiKey\")\n",
    "mistra_api_key = os.getenv(\"mistra_api_key\")\n",
    "tavily_api_key = os.getenv(\"tavily_api_key\")"
   ]
  },
  {
   "cell_type": "markdown",
   "metadata": {},
   "source": [
    "# Instantiate Embedding Model\n",
    "\n",
    "The choice of the embedding model is important and depends on the RAG application. Since a specific LLM is trained using a particular embedding model, the choice of LLM in the RAG application dictates the choice of the embedding model. Here is a table of LLM's and their embedding models. \n",
    "\n",
    "| Model                        | Benchmark/Metric          | Performance Highlights                                                                 |\n",
    "|------------------------------|---------------------------|----------------------------------------------------------------------------------------|\n",
    "| SPECTER2                     | SciRepEval                | Outperforms general-purpose models on regression, classification, and re-ranking tasks. |\n",
    "| Snowflake Arctic Embed       | MTEB Retrieval Leaderboard| Ranks first among models of similar size; large model outperforms models with 1B+ parameters. |\n",
    "| Tabular Embedding Model (TEM)| Domain-Specific Performance| Excels in handling high-dimensional datasets, particularly in financial and scientific domains. |\n",
    "| Voyage AI Embedding Models   | RAG Implementation        | High retrieval quality and efficiency in generating accurate responses[4].              |\n",
    "| OpenAI text-embedding-3-large| Embedding Dimensions      | High performance in multi-language retrieval and task-specific accuracy[11].            |\n"
   ]
  },
  {
   "cell_type": "code",
   "execution_count": 3,
   "metadata": {},
   "outputs": [
    {
     "name": "stderr",
     "output_type": "stream",
     "text": [
      "c:\\Users\\evang\\Desktop\\GraduateSchool\\Graduation\\qRAG\\qrag-env\\Lib\\site-packages\\langchain_mistralai\\embeddings.py:105: UserWarning: Could not download mistral tokenizer from Huggingface for calculating batch sizes. Set a Huggingface token via the HF_TOKEN environment variable to download the real tokenizer. Falling back to a dummy tokenizer that uses `len()`.\n",
      "  warnings.warn(\n"
     ]
    }
   ],
   "source": [
    "from langchain_openai import OpenAIEmbeddings\n",
    "from langchain_mistralai import MistralAIEmbeddings\n",
    "\n",
    "openai = OpenAIEmbeddings(model='text-embedding-3-large',api_key=openai_api_key)\n",
    "mistral = MistralAIEmbeddings(\n",
    "    model=\"mistral-embed\",\n",
    "    api_key=mistra_api_key,\n",
    ")\n",
    "# embed_model = FastEmbedEmbeddings(model_name=\"BAAI/bge-base-en-v1.5\")"
   ]
  },
  {
   "cell_type": "markdown",
   "metadata": {},
   "source": [
    "# Instantiate LLM"
   ]
  },
  {
   "cell_type": "code",
   "execution_count": 4,
   "metadata": {},
   "outputs": [],
   "source": [
    "llm = ChatGroq(temperature=0,\n",
    "              # model_name=\"Llama3-70b-8192\",\n",
    "              model_name=\"mixtral-8x7b-32768\",\n",
    "              api_key=groq_api_key)"
   ]
  },
  {
   "cell_type": "markdown",
   "metadata": {},
   "source": [
    "# Import Data (Theses, Papers)\n",
    "\n",
    "Since the data consists of pdf documents, they first need to be parsed, split into chunks, and then embedded. There are multiple packages that can be used to load and parse pdf's, like pdflumber, pypdf, and pymupdf. It seems like pymypdf is the best according to the online literature. Also, pymupdf seems to have extensive documentation and support, unlike pdflumber, including examples of using pymupdf for RAG applications. Neat! \n",
    "\n",
    "If you want to learn more, [https://pymupdf.readthedocs.io/en/latest/index.html](URL)"
   ]
  },
  {
   "cell_type": "code",
   "execution_count": 5,
   "metadata": {},
   "outputs": [
    {
     "name": "stdout",
     "output_type": "stream",
     "text": [
      "Theses\\intro-to-quantum-measurement.pdf\n",
      "Theses\\Mivev-Thesis.pdf\n",
      "Theses\\Schuster-Thesis.pdf\n",
      "Theses\\Schwarz-Thesis.pdf\n",
      "Theses\\Slichter-Thesis.pdf\n",
      "Papers\\oliver-QME.pdf\n",
      "Papers\\qe-guide-scqubits-oliver.pdf\n",
      "Papers\\wendin-review-scqubits.pdf\n"
     ]
    }
   ],
   "source": [
    "theses_paths = get_file_paths(r\"Theses/\")\n",
    "papers_paths = get_file_paths(r\"Papers/\")"
   ]
  },
  {
   "cell_type": "code",
   "execution_count": null,
   "metadata": {},
   "outputs": [],
   "source": [
    "from langchain_community.document_loaders import DirectoryLoader\n",
    "theses = load_pdf_document(theses_paths)\n",
    "papers = load_pdf_document(papers_paths)"
   ]
  },
  {
   "cell_type": "markdown",
   "metadata": {},
   "source": [
    "## Save markdown"
   ]
  },
  {
   "cell_type": "code",
   "execution_count": null,
   "metadata": {},
   "outputs": [],
   "source": [
    "theses[0]"
   ]
  },
  {
   "cell_type": "code",
   "execution_count": null,
   "metadata": {},
   "outputs": [],
   "source": [
    "save_markdown_text(theses,theses_paths)\n",
    "save_markdown_text(papers,papers_paths)"
   ]
  },
  {
   "cell_type": "markdown",
   "metadata": {},
   "source": [
    "## Load Markdown Documents"
   ]
  },
  {
   "cell_type": "code",
   "execution_count": 6,
   "metadata": {},
   "outputs": [
    {
     "name": "stdout",
     "output_type": "stream",
     "text": [
      "Loading markdown text from: Theses\\intro-to-quantum-measurement.md\n",
      "Loading markdown text from: Theses\\Mivev-Thesis.md\n",
      "Loading markdown text from: Theses\\Schuster-Thesis.md\n",
      "Loading markdown text from: Theses\\Schwarz-Thesis.md\n",
      "Loading markdown text from: Theses\\Slichter-Thesis.md\n",
      "Loading markdown text from: Papers\\oliver-QME.md\n",
      "Loading markdown text from: Papers\\qe-guide-scqubits-oliver.md\n",
      "Loading markdown text from: Papers\\wendin-review-scqubits.md\n"
     ]
    }
   ],
   "source": [
    "md_theses = load_markdown_text(theses_paths)\n",
    "md_papers = load_markdown_text(papers_paths)"
   ]
  },
  {
   "cell_type": "markdown",
   "metadata": {},
   "source": [
    "## Split into chunks\n",
    "\n",
    "Documents are split into chunks depending on the headers. Useful metadata such as chunk type (chapter, section, subsection, etc.) and name are created. Further splitting according to meaning is done after that to enchance chunking and group chunks according to similarity in embedding space. This method is better compared to brute-force splitting where the only input parameters are the chunk_size and chunk_overlap. Keep in mind that the final chunk size needs to conform to the size of the embedding model. For more information, here are some useful links.\n",
    "\n",
    "- **Semantic Splitting with Langchain**: https://python.langchain.com/v0.1/docs/modules/data_connection/document_transformers/semantic-chunker/\n",
    "- **Information on how to choose the right embedding model**: https://datasciencedojo.com/blog/choosing-the-right-vector-embedding-model/"
   ]
  },
  {
   "cell_type": "code",
   "execution_count": 7,
   "metadata": {},
   "outputs": [
    {
     "name": "stdout",
     "output_type": "stream",
     "text": [
      "5 documents split into 227 chunks\n",
      "3 documents split into 35 chunks\n"
     ]
    }
   ],
   "source": [
    "# Splitting the documents into chunks based on the headers\n",
    "headers_to_split_thesis_on = [\n",
    "    (\"#\", \"Chapter\"),\n",
    "    (\"##\", \"Section\"),\n",
    "    (\"###\", \"Subsection\"),\n",
    "    (\"####\", \"Subsubsection\"),\n",
    "    (\"#####\", \"Subsubsubsection\"),\n",
    "    # (\"#\"*6, \"Subsubsubsubsection\")\n",
    "]\n",
    "\n",
    "theses_chunks = split_docs(md_theses, headers_to_split_thesis_on)\n",
    "papers_chunks = split_docs(md_papers, headers_to_split_thesis_on)\n",
    "chunks = theses_chunks + papers_chunks"
   ]
  },
  {
   "cell_type": "markdown",
   "metadata": {},
   "source": [
    "**Further Chunking Based on Meaning (Not functional yet)**"
   ]
  },
  {
   "cell_type": "code",
   "execution_count": null,
   "metadata": {},
   "outputs": [],
   "source": [
    "# Splitting documents based on semantic similarity\n",
    "from langchain_experimental.text_splitter import SemanticChunker\n",
    "\n",
    "semantic_text_splitter = text_splitter = SemanticChunker(\n",
    "    OpenAIEmbeddings(), breakpoint_threshold_type=\"interquartile\",\n",
    ")\n",
    "docs = semantic_text_splitter.create_documents(papers_chunks)"
   ]
  },
  {
   "cell_type": "markdown",
   "metadata": {},
   "source": [
    "# Vector Database"
   ]
  },
  {
   "cell_type": "code",
   "execution_count": 8,
   "metadata": {},
   "outputs": [],
   "source": [
    "vectorstore = Chroma.from_documents(documents=chunks,\n",
    "                                    embedding=openai,\n",
    "                                    collection_name=\"local-rag\")"
   ]
  },
  {
   "cell_type": "markdown",
   "metadata": {},
   "source": [
    "# Setup Agents"
   ]
  },
  {
   "cell_type": "code",
   "execution_count": 35,
   "metadata": {},
   "outputs": [
    {
     "name": "stdout",
     "output_type": "stream",
     "text": [
      "Building agent: question_router\n",
      "Building agent: rag_chain\n",
      "Building agent: retrieval_grader\n",
      "Building agent: hallucination_grader\n",
      "Building agent: answer_grader\n"
     ]
    }
   ],
   "source": [
    "# import time\n",
    "# from langchain.prompts import PromptTemplate\n",
    "# from langchain_core.output_parsers import JsonOutputParser\n",
    "# from langchain_core.output_parsers import StrOutputParser\n",
    "\n",
    "\n",
    "\n",
    "# prompt = PromptTemplate(\n",
    "#     template=\"\"\"<|begin_of_text|><|start_header_id|>system<|end_header_id|> You are an expert at routing a \n",
    "#     user question to a vectorstore or web search. Use the vectorstore for questions on LLM  agents, \n",
    "#     prompt engineering, and adversarial attacks. You do not need to be stringent with the keywords \n",
    "#     in the question related to these topics. Otherwise, use web-search. Give a binary choice 'web_search' \n",
    "#     or 'vectorstore' based on the question. Return the a JSON with a single key 'datasource' and \n",
    "#     no premable or explaination. Question to route: {question} <|eot_id|><|start_header_id|>assistant<|end_header_id|>\"\"\",\n",
    "#     input_variables=[\"question\"],\n",
    "# )\n",
    "# # start = time.time()\n",
    "# question_router = prompt | llm | JsonOutputParser()\n",
    "\n",
    "# prompt = PromptTemplate(\n",
    "#     template=\"\"\"<|begin_of_text|><|start_header_id|>system<|end_header_id|> You are an assistant for question-answering tasks. \n",
    "#     Use the following pieces of retrieved context to answer the question. If you don't know the answer, just say that you don't know. \n",
    "#      <|eot_id|><|start_header_id|>user<|end_header_id|>\n",
    "#     Question: {question} \n",
    "#     Context: {context} \n",
    "#     Answer: <|eot_id|><|start_header_id|>assistant<|end_header_id|>\"\"\",\n",
    "#     input_variables=[\"question\", \"document\"],\n",
    "# )\n",
    "\n",
    "# # Post-processing\n",
    "# def format_docs(docs):\n",
    "#     return \"\\n\\n\".join(doc.page_content for doc in docs)\n",
    "\n",
    "# # Chain\n",
    "# # start = time.time()\n",
    "# rag_chain = prompt | llm | StrOutputParser()\n",
    "\n",
    "# prompt = PromptTemplate(\n",
    "#     template=\"\"\"<|begin_of_text|><|start_header_id|>system<|end_header_id|> You are a grader assessing relevance \n",
    "#     of a retrieved document to a user question. If the document contains keywords related to the user question, \n",
    "#     grade it as relevant. It does not need to be a stringent test. The goal is to filter out erroneous retrievals. \\n\n",
    "#     Give a binary score 'yes' or 'no' score to indicate whether the document is relevant to the question. \\n\n",
    "#     Provide the binary score as a JSON with a single key 'score' and no premable or explaination.\n",
    "#      <|eot_id|><|start_header_id|>user<|end_header_id|>\n",
    "#     Here is the retrieved document: \\n\\n {document} \\n\\n\n",
    "#     Here is the user question: {question} \\n <|eot_id|><|start_header_id|>assistant<|end_header_id|>\n",
    "#     \"\"\",\n",
    "#     input_variables=[\"question\", \"document\"],\n",
    "# )\n",
    "# # start = time.time()\n",
    "# retrieval_grader = prompt | llm | JsonOutputParser()\n",
    "\n",
    "# prompt = PromptTemplate(\n",
    "#     template=\"\"\" <|begin_of_text|><|start_header_id|>system<|end_header_id|> You are a grader assessing whether \n",
    "#     an answer is grounded in / supported by a set of facts. Give a binary 'yes' or 'no' score to indicate \n",
    "#     whether the answer is grounded in / supported by a set of facts. Provide the binary score as a JSON with a \n",
    "#     single key 'score' and no preamble or explanation. <|eot_id|><|start_header_id|>user<|end_header_id|>\n",
    "#     Here are the facts:\n",
    "#     \\n ------- \\n\n",
    "#     {documents} \n",
    "#     \\n ------- \\n\n",
    "#     Here is the answer: {generation}  <|eot_id|><|start_header_id|>assistant<|end_header_id|>\"\"\",\n",
    "#     input_variables=[\"generation\", \"documents\"],\n",
    "# )\n",
    "# # start = time.time()\n",
    "# hallucination_grader = prompt | llm | JsonOutputParser()\n",
    "\n",
    "# prompt = PromptTemplate(\n",
    "#     template=\"\"\"<|begin_of_text|><|start_header_id|>system<|end_header_id|> You are a grader assessing whether an \n",
    "#     answer is useful to resolve a question. Give a binary score 'yes' or 'no' to indicate whether the answer is \n",
    "#     useful to resolve a question. Provide the binary score as a JSON with a single key 'score' and no preamble or explanation.\n",
    "#      <|eot_id|><|start_header_id|>user<|end_header_id|> Here is the answer:\n",
    "#     \\n ------- \\n\n",
    "#     {generation} \n",
    "#     \\n ------- \\n\n",
    "#     Here is the question: {question} <|eot_id|><|start_header_id|>assistant<|end_header_id|>\"\"\",\n",
    "#     input_variables=[\"generation\", \"question\"],\n",
    "# )\n",
    "# # start = time.time()\n",
    "# answer_grader = prompt | llm | JsonOutputParser()\n",
    "from agents import crew, agent_prompts\n",
    "from langchain_community.tools.tavily_search import TavilySearchResults\n",
    "\n",
    "agents = crew(agent_prompts,llm)\n",
    "agents.build_crew()\n",
    "web_search_tool = TavilySearchResults(k=3)"
   ]
  },
  {
   "cell_type": "markdown",
   "metadata": {},
   "source": [
    "# Create Graph"
   ]
  },
  {
   "cell_type": "code",
   "execution_count": 36,
   "metadata": {},
   "outputs": [],
   "source": [
    "# from typing_extensions import TypedDict\n",
    "# from typing import List\n",
    "\n",
    "# ### State\n",
    "\n",
    "# class GraphState(TypedDict):\n",
    "#     question : str\n",
    "#     generation : str\n",
    "#     web_search : str\n",
    "#     documents : List[str]\n",
    "\n",
    "# from langchain.schema import Document\n",
    "# def retrieve(state):\n",
    "#     \"\"\"\n",
    "#     Retrieve documents from vectorstore\n",
    "\n",
    "#     Args:\n",
    "#         state (dict): The current graph state\n",
    "\n",
    "#     Returns:\n",
    "#         state (dict): New key added to state, documents, that contains retrieved documents\n",
    "#     \"\"\"\n",
    "#     print(\"---RETRIEVE---\")\n",
    "#     question = state[\"question\"]\n",
    "\n",
    "#     # Retrieval\n",
    "#     documents = retriever.invoke(question)\n",
    "#     return {\"documents\": documents, \"question\": question}\n",
    "# #\n",
    "# def generate(state):\n",
    "#     \"\"\"\n",
    "#     Generate answer using RAG on retrieved documents\n",
    "\n",
    "#     Args:\n",
    "#         state (dict): The current graph state\n",
    "\n",
    "#     Returns:\n",
    "#         state (dict): New key added to state, generation, that contains LLM generation\n",
    "#     \"\"\"\n",
    "#     print(\"---GENERATE---\")\n",
    "#     question = state[\"question\"]\n",
    "#     documents = state[\"documents\"]\n",
    "    \n",
    "#     # RAG generation\n",
    "#     generation = rag_chain.invoke({\"context\": documents, \"question\": question})\n",
    "#     return {\"documents\": documents, \"question\": question, \"generation\": generation}\n",
    "# #\n",
    "# def grade_documents(state):\n",
    "#     \"\"\"\n",
    "#     Determines whether the retrieved documents are relevant to the question\n",
    "#     If any document is not relevant, we will set a flag to run web search\n",
    "\n",
    "#     Args:\n",
    "#         state (dict): The current graph state\n",
    "\n",
    "#     Returns:\n",
    "#         state (dict): Filtered out irrelevant documents and updated web_search state\n",
    "#     \"\"\"\n",
    "\n",
    "#     print(\"---CHECK DOCUMENT RELEVANCE TO QUESTION---\")\n",
    "#     question = state[\"question\"]\n",
    "#     documents = state[\"documents\"]\n",
    "    \n",
    "#     # Score each doc\n",
    "#     filtered_docs = []\n",
    "#     web_search = \"No\"\n",
    "#     for d in documents:\n",
    "#         score = retrieval_grader.invoke({\"question\": question, \"document\": d.page_content})\n",
    "#         grade = score['score']\n",
    "#         # Document relevant\n",
    "#         if grade.lower() == \"yes\":\n",
    "#             print(\"---GRADE: DOCUMENT RELEVANT---\")\n",
    "#             filtered_docs.append(d)\n",
    "#         # Document not relevant\n",
    "#         else:\n",
    "#             print(\"---GRADE: DOCUMENT NOT RELEVANT---\")\n",
    "#             # We do not include the document in filtered_docs\n",
    "#             # We set a flag to indicate that we want to run web search\n",
    "#             web_search = \"Yes\"\n",
    "#             continue\n",
    "#     return {\"documents\": filtered_docs, \"question\": question, \"web_search\": web_search}\n",
    "# #\n",
    "# def web_search(state):\n",
    "#     \"\"\"\n",
    "#     Web search based based on the question\n",
    "\n",
    "#     Args:\n",
    "#         state (dict): The current graph state\n",
    "\n",
    "#     Returns:\n",
    "#         state (dict): Appended web results to documents\n",
    "#     \"\"\"\n",
    "\n",
    "#     print(\"---WEB SEARCH---\")\n",
    "#     question = state[\"question\"]\n",
    "#     documents = state[\"documents\"]\n",
    "\n",
    "#     # Web search\n",
    "#     docs = web_search_tool.invoke({\"query\": question})\n",
    "#     web_results = \"\\n\".join([d[\"content\"] for d in docs])\n",
    "#     web_results = Document(page_content=web_results)\n",
    "#     if documents is not None:\n",
    "#         documents.append(web_results)\n",
    "#     else:\n",
    "#         documents = [web_results]\n",
    "#     return {\"documents\": documents, \"question\": question}\n",
    "\n",
    "# def route_question(state):\n",
    "#     \"\"\"\n",
    "#     Route question to web search or RAG.\n",
    "\n",
    "#     Args:\n",
    "#         state (dict): The current graph state\n",
    "\n",
    "#     Returns:\n",
    "#         str: Next node to call\n",
    "#     \"\"\"\n",
    "\n",
    "#     print(\"---ROUTE QUESTION---\")\n",
    "#     question = state[\"question\"]\n",
    "#     print(question)\n",
    "#     source = question_router.invoke({\"question\": question})  \n",
    "#     print(source)\n",
    "#     print(source['datasource'])\n",
    "#     if source['datasource'] == 'web_search':\n",
    "#         print(\"---ROUTE QUESTION TO WEB SEARCH---\")\n",
    "#         return \"websearch\"\n",
    "#     elif source['datasource'] == 'vectorstore':\n",
    "#         print(\"---ROUTE QUESTION TO RAG---\")\n",
    "#         return \"vectorstore\"\n",
    "# def decide_to_generate(state):\n",
    "#     \"\"\"\n",
    "#     Determines whether to generate an answer, or add web search\n",
    "\n",
    "#     Args:\n",
    "#         state (dict): The current graph state\n",
    "\n",
    "#     Returns:\n",
    "#         str: Binary decision for next node to call\n",
    "#     \"\"\"\n",
    "\n",
    "#     print(\"---ASSESS GRADED DOCUMENTS---\")\n",
    "#     question = state[\"question\"]\n",
    "#     web_search = state[\"web_search\"]\n",
    "#     filtered_documents = state[\"documents\"]\n",
    "\n",
    "#     if web_search == \"Yes\":\n",
    "#         # All documents have been filtered check_relevance\n",
    "#         # We will re-generate a new query\n",
    "#         print(\"---DECISION: ALL DOCUMENTS ARE NOT RELEVANT TO QUESTION, INCLUDE WEB SEARCH---\")\n",
    "#         return \"websearch\"\n",
    "#     else:\n",
    "#         # We have relevant documents, so generate answer\n",
    "#         print(\"---DECISION: GENERATE---\")\n",
    "#         return \"generate\"\n",
    "    \n",
    "# def grade_generation_v_documents_and_question(state):\n",
    "#     \"\"\"\n",
    "#     Determines whether the generation is grounded in the document and answers question.\n",
    "\n",
    "#     Args:\n",
    "#         state (dict): The current graph state\n",
    "\n",
    "#     Returns:\n",
    "#         str: Decision for next node to call\n",
    "#     \"\"\"\n",
    "\n",
    "#     print(\"---CHECK HALLUCINATIONS---\")\n",
    "#     question = state[\"question\"]\n",
    "#     documents = state[\"documents\"]\n",
    "#     generation = state[\"generation\"]\n",
    "\n",
    "#     score = hallucination_grader.invoke({\"documents\": documents, \"generation\": generation})\n",
    "#     grade = score['score']\n",
    "\n",
    "#     # Check hallucination\n",
    "#     if grade == \"yes\":\n",
    "#         print(\"---DECISION: GENERATION IS GROUNDED IN DOCUMENTS---\")\n",
    "#         # Check question-answering\n",
    "#         print(\"---GRADE GENERATION vs QUESTION---\")\n",
    "#         score = answer_grader.invoke({\"question\": question,\"generation\": generation})\n",
    "#         print(generation)\n",
    "#         grade = score['score']\n",
    "#         if grade == \"yes\":\n",
    "#             print(\"---DECISION: GENERATION ADDRESSES QUESTION---\")\n",
    "#             return \"useful\"\n",
    "#         else:\n",
    "#             print(\"---DECISION: GENERATION DOES NOT ADDRESS QUESTION---\")\n",
    "#             return \"not useful\"\n",
    "#     else:\n",
    "#         pprint(\"---DECISION: GENERATION IS NOT GROUNDED IN DOCUMENTS, RE-TRY---\")\n",
    "#         return \"not supported\"\n",
    "        \n",
    "# from langgraph.graph import END, StateGraph\n",
    "# workflow = StateGraph(GraphState)\n",
    "\n",
    "# # Define the nodes\n",
    "# workflow.add_node(\"retrieve\", retrieve) # retrieve\n",
    "# workflow.add_node(\"websearch\", web_search) # web search\n",
    "# workflow.add_node(\"grade_documents\", grade_documents) # grade documents\n",
    "# workflow.add_node(\"generate\", generate) # generatae\n",
    "\n",
    "# workflow.set_conditional_entry_point(\n",
    "#     route_question,\n",
    "#     {\n",
    "#         \"websearch\": \"websearch\",\n",
    "#         \"vectorstore\": \"retrieve\",\n",
    "#     },\n",
    "# )\n",
    "\n",
    "# workflow.add_edge(\"retrieve\", \"grade_documents\")\n",
    "# workflow.add_conditional_edges(\n",
    "#     \"grade_documents\",\n",
    "#     decide_to_generate,\n",
    "#     {\n",
    "#         \"websearch\": \"websearch\",\n",
    "#         \"generate\": \"generate\",\n",
    "#     },\n",
    "# )\n",
    "# workflow.add_edge(\"websearch\", \"generate\")\n",
    "# workflow.add_conditional_edges(\n",
    "#     \"generate\",\n",
    "#     grade_generation_v_documents_and_question,\n",
    "#     {\n",
    "#         \"not supported\": \"generate\",\n",
    "#         \"useful\": END,\n",
    "#         \"not useful\": \"websearch\",\n",
    "#     },\n",
    "# )\n",
    "from graph import RAG_graph\n",
    "from nodes import nodes\n",
    "\n",
    "# actions = nodes(agents.crew, web_search_tool)\n",
    "rag_graph = RAG_graph(agents.crew, web_search_tool, vectorstore)"
   ]
  },
  {
   "cell_type": "markdown",
   "metadata": {},
   "source": [
    "# Compile & Test Workflow"
   ]
  },
  {
   "cell_type": "code",
   "execution_count": 34,
   "metadata": {},
   "outputs": [
    {
     "data": {
      "text/plain": [
       "{'router': PromptTemplate(input_variables=['question'], template=\"<|begin_of_text|><|start_header_id|>system<|end_header_id|> You are an expert at routing a \\n            user question to a vectorstore or web search. Use the vectorstore for questions on LLM  agents, \\n            prompt engineering, and adversarial attacks. You do not need to be stringent with the keywords \\n            in the question related to these topics. Otherwise, use web-search. Give a binary choice 'web_search' \\n            or 'vectorstore' based on the question. Return the a JSON with a single key 'datasource' and \\n            no premable or explaination. Question to route: {question} <|eot_id|><|start_header_id|>assistant<|end_header_id|>\")\n",
       " | ChatGroq(client=<groq.resources.chat.completions.Completions object at 0x00000250993F58B0>, async_client=<groq.resources.chat.completions.AsyncCompletions object at 0x000002509AA62570>, temperature=1e-08, groq_api_key=SecretStr('**********'))\n",
       " | JsonOutputParser(),\n",
       " 'rag_chain': PromptTemplate(input_variables=['context', 'question'], template=\"<|begin_of_text|><|start_header_id|>system<|end_header_id|> You are an assistant for question-answering tasks. \\n            Use the following pieces of retrieved context to answer the question. If you don't know the answer, just say that you don't know. \\n            <|eot_id|><|start_header_id|>user<|end_header_id|>\\n            Question: {question} \\n            Context: {context} \\n            Answer: <|eot_id|><|start_header_id|>assistant<|end_header_id|>\")\n",
       " | ChatGroq(client=<groq.resources.chat.completions.Completions object at 0x00000250993F58B0>, async_client=<groq.resources.chat.completions.AsyncCompletions object at 0x000002509AA62570>, temperature=1e-08, groq_api_key=SecretStr('**********'))\n",
       " | StrOutputParser(),\n",
       " 'retrieval_grader': PromptTemplate(input_variables=['document', 'question'], template=\"<|begin_of_text|><|start_header_id|>system<|end_header_id|> You are a grader assessing relevance \\n            of a retrieved document to a user question. If the document contains keywords related to the user question, \\n            grade it as relevant. It does not need to be a stringent test. The goal is to filter out erroneous retrievals. \\n\\n            Give a binary score 'yes' or 'no' score to indicate whether the document is relevant to the question. \\n\\n            Provide the binary score as a JSON with a single key 'score' and no premable or explaination.\\n            <|eot_id|><|start_header_id|>user<|end_header_id|>\\n            Here is the retrieved document: \\n\\n {document} \\n\\n\\n            Here is the user question: {question} \\n <|eot_id|><|start_header_id|>assistant<|end_header_id|>\\n            \")\n",
       " | ChatGroq(client=<groq.resources.chat.completions.Completions object at 0x00000250993F58B0>, async_client=<groq.resources.chat.completions.AsyncCompletions object at 0x000002509AA62570>, temperature=1e-08, groq_api_key=SecretStr('**********'))\n",
       " | JsonOutputParser(),\n",
       " 'hallucination_grader': PromptTemplate(input_variables=['documents', 'generation'], template=\" <|begin_of_text|><|start_header_id|>system<|end_header_id|> You are a grader assessing whether \\n            an answer is grounded in / supported by a set of facts. Give a binary 'yes' or 'no' score to indicate \\n            whether the answer is grounded in / supported by a set of facts. Provide the binary score as a JSON with a \\n            single key 'score' and no preamble or explanation. <|eot_id|><|start_header_id|>user<|end_header_id|>\\n            Here are the facts:\\n            \\n ------- \\n\\n            {documents} \\n            \\n ------- \\n\\n            Here is the answer: {generation}  <|eot_id|><|start_header_id|>assistant<|end_header_id|>\")\n",
       " | ChatGroq(client=<groq.resources.chat.completions.Completions object at 0x00000250993F58B0>, async_client=<groq.resources.chat.completions.AsyncCompletions object at 0x000002509AA62570>, temperature=1e-08, groq_api_key=SecretStr('**********'))\n",
       " | JsonOutputParser(),\n",
       " 'answer_grader': PromptTemplate(input_variables=['generation', 'question'], template=\"<|begin_of_text|><|start_header_id|>system<|end_header_id|> You are a grader assessing whether an \\n            answer is useful to resolve a question. Give a binary score 'yes' or 'no' to indicate whether the answer is \\n            useful to resolve a question. Provide the binary score as a JSON with a single key 'score' and no preamble or explanation.\\n            <|eot_id|><|start_header_id|>user<|end_header_id|> Here is the answer:\\n            \\n ------- \\n\\n            {generation} \\n            \\n ------- \\n\\n            Here is the question: {question} <|eot_id|><|start_header_id|>assistant<|end_header_id|>\")\n",
       " | ChatGroq(client=<groq.resources.chat.completions.Completions object at 0x00000250993F58B0>, async_client=<groq.resources.chat.completions.AsyncCompletions object at 0x000002509AA62570>, temperature=1e-08, groq_api_key=SecretStr('**********'))\n",
       " | JsonOutputParser()}"
      ]
     },
     "execution_count": 34,
     "metadata": {},
     "output_type": "execute_result"
    }
   ],
   "source": [
    "rag_graph.actions.crew"
   ]
  },
  {
   "cell_type": "code",
   "execution_count": 37,
   "metadata": {},
   "outputs": [],
   "source": [
    "from langchain_core.runnables import RunnableConfig\n",
    "app = rag_graph.compile()\n",
    "config = RunnableConfig(recursion_limit=3)"
   ]
  },
  {
   "cell_type": "code",
   "execution_count": 38,
   "metadata": {},
   "outputs": [
    {
     "name": "stdout",
     "output_type": "stream",
     "text": [
      "---ROUTE QUESTION---\n",
      "What are the main requirements for being able to detect quantum jumps?\n",
      "{'datasource': 'web_search'}\n",
      "web_search\n",
      "---ROUTE QUESTION TO WEB SEARCH---\n",
      "---WEB SEARCH---\n",
      "'Finished running: websearch:'\n",
      "---GENERATE---\n",
      "---CHECK HALLUCINATIONS---\n",
      "---DECISION: GENERATION IS GROUNDED IN DOCUMENTS---\n",
      "---GRADE GENERATION vs QUESTION---\n",
      "The main requirements for being able to detect quantum jumps are:\n",
      "\n",
      "1. Performing a tomography measurement after a specific time interval (Δ tcatch).\n",
      "2. Having the ability to catch the quantum jump, which involves detecting an advance warning signal. This is compared to predicting the eruption of a volcano, which is unpredictable in the long-term but may have detectable precursors.\n",
      "\n",
      "These requirements are based on the information provided in the context, which discusses the observation and prediction of quantum jumps in various systems.\n",
      "---DECISION: GENERATION ADDRESSES QUESTION---\n",
      "'Finished running: generate:'\n",
      "('The main requirements for being able to detect quantum jumps are:\\n'\n",
      " '\\n'\n",
      " '1. Performing a tomography measurement after a specific time interval (Δ '\n",
      " 'tcatch).\\n'\n",
      " '2. Having the ability to catch the quantum jump, which involves detecting an '\n",
      " 'advance warning signal. This is compared to predicting the eruption of a '\n",
      " 'volcano, which is unpredictable in the long-term but may have detectable '\n",
      " 'precursors.\\n'\n",
      " '\\n'\n",
      " 'These requirements are based on the information provided in the context, '\n",
      " 'which discusses the observation and prediction of quantum jumps in various '\n",
      " 'systems.')\n"
     ]
    }
   ],
   "source": [
    "from pprint import pprint\n",
    "inputs = {\"question\": \"What are the main requirements for being able to detect quantum jumps?\"}\n",
    "for output in app.stream(inputs,config):\n",
    "    for key, value in output.items():\n",
    "        pprint(f\"Finished running: {key}:\")\n",
    "pprint(value[\"generation\"])"
   ]
  },
  {
   "cell_type": "code",
   "execution_count": null,
   "metadata": {},
   "outputs": [],
   "source": []
  }
 ],
 "metadata": {
  "kernelspec": {
   "display_name": ".venv",
   "language": "python",
   "name": "python3"
  },
  "language_info": {
   "codemirror_mode": {
    "name": "ipython",
    "version": 3
   },
   "file_extension": ".py",
   "mimetype": "text/x-python",
   "name": "python",
   "nbconvert_exporter": "python",
   "pygments_lexer": "ipython3",
   "version": "3.12.3"
  }
 },
 "nbformat": 4,
 "nbformat_minor": 2
}
