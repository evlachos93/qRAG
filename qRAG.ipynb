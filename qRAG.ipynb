{
 "cells": [
  {
   "cell_type": "markdown",
   "metadata": {},
   "source": [
    "# To-Do List\n",
    "\n",
    "- [x] Explore different embeddings\n",
    "- [x] Add better metadata to chunks\n",
    "- [ ] Use graph-based rag for better retrieval\n",
    "- [ ] Test RAG\n",
    "- [ ] Automate testing"
   ]
  },
  {
   "cell_type": "markdown",
   "metadata": {},
   "source": [
    "# Import Libraries"
   ]
  },
  {
   "cell_type": "code",
   "execution_count": 1,
   "metadata": {},
   "outputs": [
    {
     "name": "stdout",
     "output_type": "stream",
     "text": [
      "utils.py loaded\n"
     ]
    }
   ],
   "source": [
    "from langchain.text_splitter import RecursiveCharacterTextSplitter\n",
    "# from langchain_community.document_loaders import WebBaseLoader, LocalBaseLoader, LocalFolderLoader, LocalFileLoader, LocalFolderLoader\n",
    "from langchain_community.vectorstores import Chroma\n",
    "from groq import Groq\n",
    "from langchain_groq import ChatGroq\n",
    "from src.utils import *\n",
    "from langchain_community.embeddings.fastembed import FastEmbedEmbeddings\n",
    "import os\n",
    "from dotenv import load_dotenv"
   ]
  },
  {
   "cell_type": "code",
   "execution_count": 2,
   "metadata": {},
   "outputs": [],
   "source": [
    "# import api keys\n",
    "# .\\qrag-env\\Scripts\\activate # command to activate virtual environment in terminal\n",
    "load_dotenv()\n",
    "groq_api_key = os.getenv(\"groq_api_key\")\n",
    "openai_api_key = os.getenv(\"chatgpt.gpt3.apiKey\")\n",
    "mistra_api_key = os.getenv(\"mistra_api_key\")\n",
    "tavily_api_key = os.getenv(\"tavily_api_key\")"
   ]
  },
  {
   "cell_type": "markdown",
   "metadata": {},
   "source": [
    "# Instantiate Embedding Model\n",
    "\n",
    "The choice of the embedding model is important and depends on the RAG application. Since a specific LLM is trained using a particular embedding model, the choice of LLM in the RAG application dictates the choice of the embedding model. Here is a table of LLM's and their embedding models. \n",
    "\n",
    "| Model                        | Benchmark/Metric          | Performance Highlights                                                                 |\n",
    "|------------------------------|---------------------------|----------------------------------------------------------------------------------------|\n",
    "| SPECTER2                     | SciRepEval                | Outperforms general-purpose models on regression, classification, and re-ranking tasks. |\n",
    "| Snowflake Arctic Embed       | MTEB Retrieval Leaderboard| Ranks first among models of similar size; large model outperforms models with 1B+ parameters. |\n",
    "| Tabular Embedding Model (TEM)| Domain-Specific Performance| Excels in handling high-dimensional datasets, particularly in financial and scientific domains. |\n",
    "| Voyage AI Embedding Models   | RAG Implementation        | High retrieval quality and efficiency in generating accurate responses[4].              |\n",
    "| OpenAI text-embedding-3-large| Embedding Dimensions      | High performance in multi-language retrieval and task-specific accuracy[11].            |\n"
   ]
  },
  {
   "cell_type": "code",
   "execution_count": 3,
   "metadata": {},
   "outputs": [
    {
     "name": "stderr",
     "output_type": "stream",
     "text": [
      "c:\\Users\\evang\\Desktop\\GraduateSchool\\Graduation\\qRAG\\qrag-env\\Lib\\site-packages\\langchain_mistralai\\embeddings.py:105: UserWarning: Could not download mistral tokenizer from Huggingface for calculating batch sizes. Set a Huggingface token via the HF_TOKEN environment variable to download the real tokenizer. Falling back to a dummy tokenizer that uses `len()`.\n",
      "  warnings.warn(\n"
     ]
    }
   ],
   "source": [
    "from langchain_openai import OpenAIEmbeddings\n",
    "from langchain_mistralai import MistralAIEmbeddings\n",
    "\n",
    "openai = OpenAIEmbeddings(model='text-embedding-3-large',api_key=openai_api_key)\n",
    "mistral = MistralAIEmbeddings(\n",
    "    model=\"mistral-embed\",\n",
    "    api_key=mistra_api_key,\n",
    ")\n",
    "# embed_model = FastEmbedEmbeddings(model_name=\"BAAI/bge-base-en-v1.5\")"
   ]
  },
  {
   "cell_type": "markdown",
   "metadata": {},
   "source": [
    "# Instantiate LLM"
   ]
  },
  {
   "cell_type": "code",
   "execution_count": 4,
   "metadata": {},
   "outputs": [],
   "source": [
    "llm = ChatGroq(temperature=0,\n",
    "              # model_name=\"Llama3-70b-8192\",\n",
    "              model_name=\"mixtral-8x7b-32768\",\n",
    "              api_key=groq_api_key)"
   ]
  },
  {
   "cell_type": "markdown",
   "metadata": {},
   "source": [
    "# Import Data (Theses, Papers)\n",
    "\n",
    "Since the data consists of pdf documents, they first need to be parsed, split into chunks, and then embedded. There are multiple packages that can be used to load and parse pdf's, like pdflumber, pypdf, and pymupdf. It seems like pymypdf is the best according to the online literature. Also, pymupdf seems to have extensive documentation and support, unlike pdflumber, including examples of using pymupdf for RAG applications. Neat! \n",
    "\n",
    "If you want to learn more, [https://pymupdf.readthedocs.io/en/latest/index.html](URL)"
   ]
  },
  {
   "cell_type": "code",
   "execution_count": 5,
   "metadata": {},
   "outputs": [
    {
     "name": "stdout",
     "output_type": "stream",
     "text": [
      "Theses\\intro-to-quantum-measurement.pdf\n",
      "Theses\\Mivev-Thesis.pdf\n",
      "Theses\\Schuster-Thesis.pdf\n",
      "Theses\\Schwarz-Thesis.pdf\n",
      "Theses\\Slichter-Thesis.pdf\n",
      "Papers\\oliver-QME.pdf\n",
      "Papers\\qe-guide-scqubits-oliver.pdf\n",
      "Papers\\wendin-review-scqubits.pdf\n"
     ]
    }
   ],
   "source": [
    "theses_paths = get_file_paths(r\"Theses/\")\n",
    "papers_paths = get_file_paths(r\"Papers/\")"
   ]
  },
  {
   "cell_type": "code",
   "execution_count": null,
   "metadata": {},
   "outputs": [],
   "source": [
    "from langchain_community.document_loaders import DirectoryLoader\n",
    "theses = load_pdf_document(theses_paths)\n",
    "papers = load_pdf_document(papers_paths)"
   ]
  },
  {
   "cell_type": "markdown",
   "metadata": {},
   "source": [
    "## Save markdown"
   ]
  },
  {
   "cell_type": "code",
   "execution_count": null,
   "metadata": {},
   "outputs": [],
   "source": [
    "theses[0]"
   ]
  },
  {
   "cell_type": "code",
   "execution_count": 6,
   "metadata": {},
   "outputs": [
    {
     "ename": "NameError",
     "evalue": "name 'theses' is not defined",
     "output_type": "error",
     "traceback": [
      "\u001b[1;31m---------------------------------------------------------------------------\u001b[0m",
      "\u001b[1;31mNameError\u001b[0m                                 Traceback (most recent call last)",
      "Cell \u001b[1;32mIn[6], line 1\u001b[0m\n\u001b[1;32m----> 1\u001b[0m save_markdown_text(\u001b[43mtheses\u001b[49m,theses_paths)\n\u001b[0;32m      2\u001b[0m save_markdown_text(papers,papers_paths)\n",
      "\u001b[1;31mNameError\u001b[0m: name 'theses' is not defined"
     ]
    }
   ],
   "source": [
    "save_markdown_text(theses,theses_paths)\n",
    "save_markdown_text(papers,papers_paths)"
   ]
  },
  {
   "cell_type": "markdown",
   "metadata": {},
   "source": [
    "## Load Markdown Documents"
   ]
  },
  {
   "cell_type": "code",
   "execution_count": 8,
   "metadata": {},
   "outputs": [
    {
     "name": "stdout",
     "output_type": "stream",
     "text": [
      "Loading markdown text from: Theses\\intro-to-quantum-measurement.md\n",
      "Loading markdown text from: Theses\\Mivev-Thesis.md\n",
      "Loading markdown text from: Theses\\Schuster-Thesis.md\n",
      "Loading markdown text from: Theses\\Schwarz-Thesis.md\n",
      "Loading markdown text from: Theses\\Slichter-Thesis.md\n",
      "Loading markdown text from: Papers\\oliver-QME.md\n",
      "Loading markdown text from: Papers\\qe-guide-scqubits-oliver.md\n",
      "Loading markdown text from: Papers\\wendin-review-scqubits.md\n"
     ]
    }
   ],
   "source": [
    "md_theses = load_markdown_text(theses_paths)\n",
    "md_papers = load_markdown_text(papers_paths)"
   ]
  },
  {
   "cell_type": "markdown",
   "metadata": {},
   "source": [
    "## Split into chunks\n",
    "\n",
    "Documents are split into chunks depending on the headers. Useful metadata such as chunk type (chapter, section, subsection, etc.) and name are created. Further splitting according to meaning is done after that to enchance chunking and group chunks according to similarity in embedding space. This method is better compared to brute-force splitting where the only input parameters are the chunk_size and chunk_overlap. Keep in mind that the final chunk size needs to conform to the size of the embedding model. For more information, here are some useful links.\n",
    "\n",
    "- **Semantic Splitting with Langchain**: https://python.langchain.com/v0.1/docs/modules/data_connection/document_transformers/semantic-chunker/\n",
    "- **Information on how to choose the right embedding model**: https://datasciencedojo.com/blog/choosing-the-right-vector-embedding-model/"
   ]
  },
  {
   "cell_type": "code",
   "execution_count": 9,
   "metadata": {},
   "outputs": [
    {
     "name": "stdout",
     "output_type": "stream",
     "text": [
      "5 documents split into 227 chunks\n",
      "3 documents split into 35 chunks\n"
     ]
    }
   ],
   "source": [
    "# Splitting the documents into chunks based on the headers\n",
    "headers_to_split_thesis_on = [\n",
    "    (\"#\", \"Chapter\"),\n",
    "    (\"##\", \"Section\"),\n",
    "    (\"###\", \"Subsection\"),\n",
    "    (\"####\", \"Subsubsection\"),\n",
    "    (\"#####\", \"Subsubsubsection\"),\n",
    "    # (\"#\"*6, \"Subsubsubsubsection\")\n",
    "]\n",
    "\n",
    "theses_chunks = split_docs(md_theses, headers_to_split_thesis_on)\n",
    "papers_chunks = split_docs(md_papers, headers_to_split_thesis_on)\n",
    "chunks = theses_chunks + papers_chunks"
   ]
  },
  {
   "cell_type": "markdown",
   "metadata": {},
   "source": [
    "**Further Chunking Based on Meaning (Not functional yet)**"
   ]
  },
  {
   "cell_type": "code",
   "execution_count": null,
   "metadata": {},
   "outputs": [],
   "source": [
    "# Splitting documents based on semantic similarity\n",
    "from langchain_experimental.text_splitter import SemanticChunker\n",
    "\n",
    "semantic_text_splitter = text_splitter = SemanticChunker(\n",
    "    OpenAIEmbeddings(), breakpoint_threshold_type=\"interquartile\",\n",
    ")\n",
    "docs = semantic_text_splitter.create_documents(papers_chunks)"
   ]
  },
  {
   "cell_type": "markdown",
   "metadata": {},
   "source": [
    "# Vector Database"
   ]
  },
  {
   "cell_type": "code",
   "execution_count": 10,
   "metadata": {},
   "outputs": [],
   "source": [
    "vectorstore = Chroma.from_documents(documents=chunks,\n",
    "                                    embedding=openai,\n",
    "                                    collection_name=\"local-rag\")"
   ]
  },
  {
   "cell_type": "markdown",
   "metadata": {},
   "source": [
    "# Setup Agents"
   ]
  },
  {
   "cell_type": "code",
   "execution_count": 11,
   "metadata": {},
   "outputs": [
    {
     "name": "stdout",
     "output_type": "stream",
     "text": [
      "Building agent: question_router\n",
      "Building agent: rag_chain\n",
      "Building agent: retrieval_grader\n",
      "Building agent: hallucination_grader\n",
      "Building agent: answer_grader\n"
     ]
    }
   ],
   "source": [
    "from agents import crew, agent_prompts\n",
    "from langchain_community.tools.tavily_search import TavilySearchResults\n",
    "\n",
    "agents = crew(agent_prompts,llm)\n",
    "agents.build_crew()\n",
    "web_search_tool = TavilySearchResults(k=3)"
   ]
  },
  {
   "cell_type": "markdown",
   "metadata": {},
   "source": [
    "# Create Graph"
   ]
  },
  {
   "cell_type": "code",
   "execution_count": 12,
   "metadata": {},
   "outputs": [],
   "source": [
    "from graph import RAG_graph\n",
    "from nodes import nodes\n",
    "\n",
    "# actions = nodes(agents.crew, web_search_tool)\n",
    "rag_graph = RAG_graph(agents.crew, web_search_tool, vectorstore)"
   ]
  },
  {
   "cell_type": "markdown",
   "metadata": {},
   "source": [
    "# Compile & Test Workflow"
   ]
  },
  {
   "cell_type": "code",
   "execution_count": 13,
   "metadata": {},
   "outputs": [],
   "source": [
    "from langchain_core.runnables import RunnableConfig\n",
    "app = rag_graph.compile()\n",
    "config = RunnableConfig(recursion_limit=3)"
   ]
  },
  {
   "cell_type": "code",
   "execution_count": 15,
   "metadata": {},
   "outputs": [
    {
     "name": "stdout",
     "output_type": "stream",
     "text": [
      "---ROUTE QUESTION---\n",
      "What are the main requirements for being able to detect quantum jumps?\n",
      "{'datasource': 'web_search'}\n",
      "web_search\n",
      "---ROUTE QUESTION TO WEB SEARCH---\n",
      "---WEB SEARCH---\n",
      "'Finished running: websearch:'\n",
      "---GENERATE---\n",
      "---CHECK HALLUCINATIONS---\n",
      "---DECISION: GENERATION IS NOT GROUNDED IN DOCUMENTS, RE-TRY---\n",
      "'Finished running: generate:'\n",
      "---GENERATE---\n",
      "---CHECK HALLUCINATIONS---\n",
      "---DECISION: GENERATION IS NOT GROUNDED IN DOCUMENTS, RE-TRY---\n",
      "'Finished running: generate:'\n"
     ]
    },
    {
     "ename": "GraphRecursionError",
     "evalue": "Recursion limit of 3 reachedwithout hitting a stop condition. You can increase the limit by setting the `recursion_limit` config key.",
     "output_type": "error",
     "traceback": [
      "\u001b[1;31m---------------------------------------------------------------------------\u001b[0m",
      "\u001b[1;31mGraphRecursionError\u001b[0m                       Traceback (most recent call last)",
      "Cell \u001b[1;32mIn[15], line 3\u001b[0m\n\u001b[0;32m      1\u001b[0m \u001b[38;5;28;01mfrom\u001b[39;00m \u001b[38;5;21;01mpprint\u001b[39;00m \u001b[38;5;28;01mimport\u001b[39;00m pprint\n\u001b[0;32m      2\u001b[0m inputs \u001b[38;5;241m=\u001b[39m {\u001b[38;5;124m\"\u001b[39m\u001b[38;5;124mquestion\u001b[39m\u001b[38;5;124m\"\u001b[39m: \u001b[38;5;124m\"\u001b[39m\u001b[38;5;124mWhat are the main requirements for being able to detect quantum jumps?\u001b[39m\u001b[38;5;124m\"\u001b[39m}\n\u001b[1;32m----> 3\u001b[0m \u001b[38;5;28;43;01mfor\u001b[39;49;00m\u001b[43m \u001b[49m\u001b[43moutput\u001b[49m\u001b[43m \u001b[49m\u001b[38;5;129;43;01min\u001b[39;49;00m\u001b[43m \u001b[49m\u001b[43mapp\u001b[49m\u001b[38;5;241;43m.\u001b[39;49m\u001b[43mstream\u001b[49m\u001b[43m(\u001b[49m\u001b[43minputs\u001b[49m\u001b[43m,\u001b[49m\u001b[43mconfig\u001b[49m\u001b[43m)\u001b[49m\u001b[43m:\u001b[49m\n\u001b[0;32m      4\u001b[0m \u001b[43m    \u001b[49m\u001b[38;5;28;43;01mfor\u001b[39;49;00m\u001b[43m \u001b[49m\u001b[43mkey\u001b[49m\u001b[43m,\u001b[49m\u001b[43m \u001b[49m\u001b[43mvalue\u001b[49m\u001b[43m \u001b[49m\u001b[38;5;129;43;01min\u001b[39;49;00m\u001b[43m \u001b[49m\u001b[43moutput\u001b[49m\u001b[38;5;241;43m.\u001b[39;49m\u001b[43mitems\u001b[49m\u001b[43m(\u001b[49m\u001b[43m)\u001b[49m\u001b[43m:\u001b[49m\n\u001b[0;32m      5\u001b[0m \u001b[43m        \u001b[49m\u001b[43mpprint\u001b[49m\u001b[43m(\u001b[49m\u001b[38;5;124;43mf\u001b[39;49m\u001b[38;5;124;43m\"\u001b[39;49m\u001b[38;5;124;43mFinished running: \u001b[39;49m\u001b[38;5;132;43;01m{\u001b[39;49;00m\u001b[43mkey\u001b[49m\u001b[38;5;132;43;01m}\u001b[39;49;00m\u001b[38;5;124;43m:\u001b[39;49m\u001b[38;5;124;43m\"\u001b[39;49m\u001b[43m)\u001b[49m\n",
      "File \u001b[1;32mc:\\Users\\evang\\Desktop\\GraduateSchool\\Graduation\\qRAG\\qrag-env\\Lib\\site-packages\\langgraph\\pregel\\__init__.py:968\u001b[0m, in \u001b[0;36mPregel.stream\u001b[1;34m(self, input, config, stream_mode, output_keys, input_keys, interrupt_before, interrupt_after, debug)\u001b[0m\n\u001b[0;32m    966\u001b[0m         \u001b[38;5;28;01mbreak\u001b[39;00m\n\u001b[0;32m    967\u001b[0m \u001b[38;5;28;01melse\u001b[39;00m:\n\u001b[1;32m--> 968\u001b[0m     \u001b[38;5;28;01mraise\u001b[39;00m GraphRecursionError(\n\u001b[0;32m    969\u001b[0m         \u001b[38;5;124mf\u001b[39m\u001b[38;5;124m\"\u001b[39m\u001b[38;5;124mRecursion limit of \u001b[39m\u001b[38;5;132;01m{\u001b[39;00mconfig[\u001b[38;5;124m'\u001b[39m\u001b[38;5;124mrecursion_limit\u001b[39m\u001b[38;5;124m'\u001b[39m]\u001b[38;5;132;01m}\u001b[39;00m\u001b[38;5;124m reached\u001b[39m\u001b[38;5;124m\"\u001b[39m\n\u001b[0;32m    970\u001b[0m         \u001b[38;5;124m\"\u001b[39m\u001b[38;5;124mwithout hitting a stop condition. You can increase the \u001b[39m\u001b[38;5;124m\"\u001b[39m\n\u001b[0;32m    971\u001b[0m         \u001b[38;5;124m\"\u001b[39m\u001b[38;5;124mlimit by setting the `recursion_limit` config key.\u001b[39m\u001b[38;5;124m\"\u001b[39m\n\u001b[0;32m    972\u001b[0m     )\n\u001b[0;32m    974\u001b[0m \u001b[38;5;66;03m# set final channel values as run output\u001b[39;00m\n\u001b[0;32m    975\u001b[0m run_manager\u001b[38;5;241m.\u001b[39mon_chain_end(read_channels(channels, output_keys))\n",
      "\u001b[1;31mGraphRecursionError\u001b[0m: Recursion limit of 3 reachedwithout hitting a stop condition. You can increase the limit by setting the `recursion_limit` config key."
     ]
    }
   ],
   "source": [
    "from pprint import pprint\n",
    "inputs = {\"question\": \"What are the main requirements for being able to detect quantum jumps?\"}\n",
    "for output in app.stream(inputs,config):\n",
    "    for key, value in output.items():\n",
    "        pprint(f\"Finished running: {key}:\")\n",
    "pprint(value[\"generation\"])"
   ]
  },
  {
   "cell_type": "markdown",
   "metadata": {},
   "source": [
    "# Display Graph"
   ]
  },
  {
   "cell_type": "code",
   "execution_count": 47,
   "metadata": {},
   "outputs": [
    {
     "name": "stdout",
     "output_type": "stream",
     "text": [
      "filename:  b'graph'.gv\n"
     ]
    },
    {
     "name": "stderr",
     "output_type": "stream",
     "text": [
      "Exception ignored in: <function AGraph.__del__ at 0x000001E5B71C7A60>\n",
      "Traceback (most recent call last):\n",
      "  File \"c:\\Users\\evang\\Desktop\\GraduateSchool\\Graduation\\qRAG\\qrag-env\\Lib\\site-packages\\pygraphviz\\agraph.py\", line 296, in __del__\n",
      "    self._close_handle()\n",
      "  File \"c:\\Users\\evang\\Desktop\\GraduateSchool\\Graduation\\qRAG\\qrag-env\\Lib\\site-packages\\pygraphviz\\agraph.py\", line 1013, in _close_handle\n",
      "    gv.agclose(self.handle)\n",
      "    ^^^^^^^^^^\n",
      "AttributeError: module 'pygraphviz.graphviz' has no attribute 'agclose'\n"
     ]
    },
    {
     "ename": "AttributeError",
     "evalue": "module 'pygraphviz.graphviz' has no attribute 'agraphof'",
     "output_type": "error",
     "traceback": [
      "\u001b[1;31m---------------------------------------------------------------------------\u001b[0m",
      "\u001b[1;31mAttributeError\u001b[0m                            Traceback (most recent call last)",
      "Cell \u001b[1;32mIn[47], line 3\u001b[0m\n\u001b[0;32m      1\u001b[0m \u001b[38;5;28;01mfrom\u001b[39;00m \u001b[38;5;21;01mIPython\u001b[39;00m\u001b[38;5;21;01m.\u001b[39;00m\u001b[38;5;21;01mdisplay\u001b[39;00m \u001b[38;5;28;01mimport\u001b[39;00m Image\n\u001b[1;32m----> 3\u001b[0m Image(\u001b[43mapp\u001b[49m\u001b[38;5;241;43m.\u001b[39;49m\u001b[43mget_graph\u001b[49m\u001b[43m(\u001b[49m\u001b[43m)\u001b[49m\u001b[38;5;241;43m.\u001b[39;49m\u001b[43mdraw_png\u001b[49m\u001b[43m(\u001b[49m\u001b[43moutput_file_path\u001b[49m\u001b[38;5;241;43m=\u001b[39;49m\u001b[38;5;124;43m\"\u001b[39;49m\u001b[38;5;124;43mgraph\u001b[39;49m\u001b[38;5;124;43m\"\u001b[39;49m\u001b[43m)\u001b[49m)\n",
      "File \u001b[1;32mc:\\Users\\evang\\Desktop\\GraduateSchool\\Graduation\\qRAG\\qrag-env\\Lib\\site-packages\\langchain_core\\runnables\\graph.py:401\u001b[0m, in \u001b[0;36mGraph.draw_png\u001b[1;34m(self, output_file_path, fontname, labels)\u001b[0m\n\u001b[0;32m    386\u001b[0m \u001b[38;5;28;01mfrom\u001b[39;00m \u001b[38;5;21;01mlangchain_core\u001b[39;00m\u001b[38;5;21;01m.\u001b[39;00m\u001b[38;5;21;01mrunnables\u001b[39;00m\u001b[38;5;21;01m.\u001b[39;00m\u001b[38;5;21;01mgraph_png\u001b[39;00m \u001b[38;5;28;01mimport\u001b[39;00m PngDrawer\n\u001b[0;32m    388\u001b[0m default_node_labels \u001b[38;5;241m=\u001b[39m {\n\u001b[0;32m    389\u001b[0m     node\u001b[38;5;241m.\u001b[39mid: node_data_str(node) \u001b[38;5;28;01mfor\u001b[39;00m node \u001b[38;5;129;01min\u001b[39;00m \u001b[38;5;28mself\u001b[39m\u001b[38;5;241m.\u001b[39mnodes\u001b[38;5;241m.\u001b[39mvalues()\n\u001b[0;32m    390\u001b[0m }\n\u001b[0;32m    392\u001b[0m \u001b[38;5;28;01mreturn\u001b[39;00m \u001b[43mPngDrawer\u001b[49m\u001b[43m(\u001b[49m\n\u001b[0;32m    393\u001b[0m \u001b[43m    \u001b[49m\u001b[43mfontname\u001b[49m\u001b[43m,\u001b[49m\n\u001b[0;32m    394\u001b[0m \u001b[43m    \u001b[49m\u001b[43mLabelsDict\u001b[49m\u001b[43m(\u001b[49m\n\u001b[0;32m    395\u001b[0m \u001b[43m        \u001b[49m\u001b[43mnodes\u001b[49m\u001b[38;5;241;43m=\u001b[39;49m\u001b[43m{\u001b[49m\n\u001b[0;32m    396\u001b[0m \u001b[43m            \u001b[49m\u001b[38;5;241;43m*\u001b[39;49m\u001b[38;5;241;43m*\u001b[39;49m\u001b[43mdefault_node_labels\u001b[49m\u001b[43m,\u001b[49m\n\u001b[0;32m    397\u001b[0m \u001b[43m            \u001b[49m\u001b[38;5;241;43m*\u001b[39;49m\u001b[38;5;241;43m*\u001b[39;49m\u001b[43m(\u001b[49m\u001b[43mlabels\u001b[49m\u001b[43m[\u001b[49m\u001b[38;5;124;43m\"\u001b[39;49m\u001b[38;5;124;43mnodes\u001b[39;49m\u001b[38;5;124;43m\"\u001b[39;49m\u001b[43m]\u001b[49m\u001b[43m \u001b[49m\u001b[38;5;28;43;01mif\u001b[39;49;00m\u001b[43m \u001b[49m\u001b[43mlabels\u001b[49m\u001b[43m \u001b[49m\u001b[38;5;129;43;01mis\u001b[39;49;00m\u001b[43m \u001b[49m\u001b[38;5;129;43;01mnot\u001b[39;49;00m\u001b[43m \u001b[49m\u001b[38;5;28;43;01mNone\u001b[39;49;00m\u001b[43m \u001b[49m\u001b[38;5;28;43;01melse\u001b[39;49;00m\u001b[43m \u001b[49m\u001b[43m{\u001b[49m\u001b[43m}\u001b[49m\u001b[43m)\u001b[49m\u001b[43m,\u001b[49m\n\u001b[0;32m    398\u001b[0m \u001b[43m        \u001b[49m\u001b[43m}\u001b[49m\u001b[43m,\u001b[49m\n\u001b[0;32m    399\u001b[0m \u001b[43m        \u001b[49m\u001b[43medges\u001b[49m\u001b[38;5;241;43m=\u001b[39;49m\u001b[43mlabels\u001b[49m\u001b[43m[\u001b[49m\u001b[38;5;124;43m\"\u001b[39;49m\u001b[38;5;124;43medges\u001b[39;49m\u001b[38;5;124;43m\"\u001b[39;49m\u001b[43m]\u001b[49m\u001b[43m \u001b[49m\u001b[38;5;28;43;01mif\u001b[39;49;00m\u001b[43m \u001b[49m\u001b[43mlabels\u001b[49m\u001b[43m \u001b[49m\u001b[38;5;129;43;01mis\u001b[39;49;00m\u001b[43m \u001b[49m\u001b[38;5;129;43;01mnot\u001b[39;49;00m\u001b[43m \u001b[49m\u001b[38;5;28;43;01mNone\u001b[39;49;00m\u001b[43m \u001b[49m\u001b[38;5;28;43;01melse\u001b[39;49;00m\u001b[43m \u001b[49m\u001b[43m{\u001b[49m\u001b[43m}\u001b[49m\u001b[43m,\u001b[49m\n\u001b[0;32m    400\u001b[0m \u001b[43m    \u001b[49m\u001b[43m)\u001b[49m\u001b[43m,\u001b[49m\n\u001b[1;32m--> 401\u001b[0m \u001b[43m\u001b[49m\u001b[43m)\u001b[49m\u001b[38;5;241;43m.\u001b[39;49m\u001b[43mdraw\u001b[49m\u001b[43m(\u001b[49m\u001b[38;5;28;43mself\u001b[39;49m\u001b[43m,\u001b[49m\u001b[43m \u001b[49m\u001b[43moutput_path\u001b[49m\u001b[38;5;241;43m=\u001b[39;49m\u001b[43moutput_file_path\u001b[49m\u001b[43m)\u001b[49m\n",
      "File \u001b[1;32mc:\\Users\\evang\\Desktop\\GraduateSchool\\Graduation\\qRAG\\qrag-env\\Lib\\site-packages\\langchain_core\\runnables\\graph_png.py:143\u001b[0m, in \u001b[0;36mPngDrawer.draw\u001b[1;34m(self, graph, output_path)\u001b[0m\n\u001b[0;32m    138\u001b[0m     \u001b[38;5;28;01mraise\u001b[39;00m \u001b[38;5;167;01mImportError\u001b[39;00m(\n\u001b[0;32m    139\u001b[0m         \u001b[38;5;124m\"\u001b[39m\u001b[38;5;124mInstall pygraphviz to draw graphs: `pip install pygraphviz`.\u001b[39m\u001b[38;5;124m\"\u001b[39m\n\u001b[0;32m    140\u001b[0m     ) \u001b[38;5;28;01mfrom\u001b[39;00m \u001b[38;5;21;01mexc\u001b[39;00m\n\u001b[0;32m    142\u001b[0m \u001b[38;5;66;03m# Create a directed graph\u001b[39;00m\n\u001b[1;32m--> 143\u001b[0m viz \u001b[38;5;241m=\u001b[39m \u001b[43mpgv\u001b[49m\u001b[38;5;241;43m.\u001b[39;49m\u001b[43mAGraph\u001b[49m\u001b[43m(\u001b[49m\u001b[43mdirected\u001b[49m\u001b[38;5;241;43m=\u001b[39;49m\u001b[38;5;28;43;01mTrue\u001b[39;49;00m\u001b[43m,\u001b[49m\u001b[43m \u001b[49m\u001b[43mnodesep\u001b[49m\u001b[38;5;241;43m=\u001b[39;49m\u001b[38;5;241;43m0.9\u001b[39;49m\u001b[43m,\u001b[49m\u001b[43m \u001b[49m\u001b[43mranksep\u001b[49m\u001b[38;5;241;43m=\u001b[39;49m\u001b[38;5;241;43m1.0\u001b[39;49m\u001b[43m,\u001b[49m\u001b[43m \u001b[49m\u001b[43mname\u001b[49m\u001b[38;5;241;43m=\u001b[39;49m\u001b[43moutput_path\u001b[49m\u001b[43m)\u001b[49m\n\u001b[0;32m    145\u001b[0m \u001b[38;5;66;03m# Add nodes, conditional edges, and edges to the graph\u001b[39;00m\n\u001b[0;32m    146\u001b[0m \u001b[38;5;28mself\u001b[39m\u001b[38;5;241m.\u001b[39madd_nodes(viz, graph)\n",
      "File \u001b[1;32mc:\\Users\\evang\\Desktop\\GraduateSchool\\Graduation\\qRAG\\qrag-env\\Lib\\site-packages\\pygraphviz\\agraph.py:215\u001b[0m, in \u001b[0;36mAGraph.__init__\u001b[1;34m(self, thing, filename, data, string, handle, name, strict, directed, **attr)\u001b[0m\n\u001b[0;32m    212\u001b[0m     \u001b[38;5;28;01mdel\u001b[39;00m attr[\u001b[38;5;124m\"\u001b[39m\u001b[38;5;124mcharset\u001b[39m\u001b[38;5;124m\"\u001b[39m]\n\u001b[0;32m    214\u001b[0m \u001b[38;5;66;03m# assign any attributes specified through keywords\u001b[39;00m\n\u001b[1;32m--> 215\u001b[0m \u001b[38;5;28mself\u001b[39m\u001b[38;5;241m.\u001b[39mgraph_attr \u001b[38;5;241m=\u001b[39m \u001b[43mAttribute\u001b[49m\u001b[43m(\u001b[49m\u001b[38;5;28;43mself\u001b[39;49m\u001b[38;5;241;43m.\u001b[39;49m\u001b[43mhandle\u001b[49m\u001b[43m,\u001b[49m\u001b[43m \u001b[49m\u001b[38;5;241;43m0\u001b[39;49m\u001b[43m)\u001b[49m  \u001b[38;5;66;03m# graph attributes\u001b[39;00m\n\u001b[0;32m    216\u001b[0m \u001b[38;5;28mself\u001b[39m\u001b[38;5;241m.\u001b[39mgraph_attr\u001b[38;5;241m.\u001b[39mupdate(attr)  \u001b[38;5;66;03m# apply attributes passed to init\u001b[39;00m\n\u001b[0;32m    217\u001b[0m \u001b[38;5;28mself\u001b[39m\u001b[38;5;241m.\u001b[39mnode_attr \u001b[38;5;241m=\u001b[39m Attribute(\u001b[38;5;28mself\u001b[39m\u001b[38;5;241m.\u001b[39mhandle, \u001b[38;5;241m1\u001b[39m)  \u001b[38;5;66;03m# default node attributes\u001b[39;00m\n",
      "File \u001b[1;32mc:\\Users\\evang\\Desktop\\GraduateSchool\\Graduation\\qRAG\\qrag-env\\Lib\\site-packages\\pygraphviz\\agraph.py:1987\u001b[0m, in \u001b[0;36mAttribute.__init__\u001b[1;34m(self, handle, atype)\u001b[0m\n\u001b[0;32m   1985\u001b[0m \u001b[38;5;28mself\u001b[39m\u001b[38;5;241m.\u001b[39mtype \u001b[38;5;241m=\u001b[39m atype\n\u001b[0;32m   1986\u001b[0m \u001b[38;5;66;03m# get the encoding\u001b[39;00m\n\u001b[1;32m-> 1987\u001b[0m ghandle \u001b[38;5;241m=\u001b[39m \u001b[43mgv\u001b[49m\u001b[38;5;241;43m.\u001b[39;49m\u001b[43magraphof\u001b[49m(handle)\n\u001b[0;32m   1988\u001b[0m root_handle \u001b[38;5;241m=\u001b[39m gv\u001b[38;5;241m.\u001b[39magroot(ghandle)  \u001b[38;5;66;03m# get root graph\u001b[39;00m\n\u001b[0;32m   1989\u001b[0m \u001b[38;5;28;01mtry\u001b[39;00m:\n",
      "\u001b[1;31mAttributeError\u001b[0m: module 'pygraphviz.graphviz' has no attribute 'agraphof'"
     ]
    }
   ],
   "source": [
    "from IPython.display import Image\n",
    "\n",
    "Image(app.get_graph().draw_png(output_file_path=\"graph\"))"
   ]
  },
  {
   "cell_type": "code",
   "execution_count": 25,
   "metadata": {},
   "outputs": [
    {
     "data": {
      "text/plain": [
       "langgraph.utils.DrawableGraph"
      ]
     },
     "execution_count": 25,
     "metadata": {},
     "output_type": "execute_result"
    }
   ],
   "source": [
    "from IPython.display import Image\n",
    "\n",
    "type(app.get_graph())"
   ]
  },
  {
   "cell_type": "code",
   "execution_count": null,
   "metadata": {},
   "outputs": [],
   "source": []
  }
 ],
 "metadata": {
  "kernelspec": {
   "display_name": ".venv",
   "language": "python",
   "name": "python3"
  },
  "language_info": {
   "codemirror_mode": {
    "name": "ipython",
    "version": 3
   },
   "file_extension": ".py",
   "mimetype": "text/x-python",
   "name": "python",
   "nbconvert_exporter": "python",
   "pygments_lexer": "ipython3",
   "version": "3.12.3"
  }
 },
 "nbformat": 4,
 "nbformat_minor": 2
}
