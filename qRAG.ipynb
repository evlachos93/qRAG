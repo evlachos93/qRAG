{
 "cells": [
  {
   "cell_type": "markdown",
   "metadata": {},
   "source": [
    "# To-Do List\n",
    "\n",
    "1. Explore different embeddings\n",
    "2. Add better metadata to chunks"
   ]
  },
  {
   "cell_type": "markdown",
   "metadata": {},
   "source": [
    "# Import Libraries"
   ]
  },
  {
   "cell_type": "code",
   "execution_count": 1,
   "metadata": {},
   "outputs": [
    {
     "name": "stdout",
     "output_type": "stream",
     "text": [
      "utils.py loaded\n"
     ]
    }
   ],
   "source": [
    "from langchain.text_splitter import RecursiveCharacterTextSplitter\n",
    "# from langchain_community.document_loaders import WebBaseLoader, LocalBaseLoader, LocalFolderLoader, LocalFileLoader, LocalFolderLoader\n",
    "from langchain_community.vectorstores import Chroma\n",
    "from groq import Groq\n",
    "from langchain_groq import ChatGroq\n",
    "from src.utils import *\n",
    "from langchain_community.embeddings.fastembed import FastEmbedEmbeddings\n",
    "import os\n",
    "from dotenv import load_dotenv"
   ]
  },
  {
   "cell_type": "code",
   "execution_count": 2,
   "metadata": {},
   "outputs": [],
   "source": [
    "# import api keys\n",
    "# .\\qrag-env\\Scripts\\activate # command to activate virtual environment in terminal\n",
    "load_dotenv()\n",
    "groq_api_key = os.getenv(\"groq_api_key\")\n",
    "openai_api_key = os.getenv(\"chatgpt.gpt3.apiKey\")\n",
    "mistra_api_key = os.getenv(\"mistra_api_key\")\n",
    "tavily_api_key = os.getenv(\"tavily_api_key\")"
   ]
  },
  {
   "cell_type": "markdown",
   "metadata": {},
   "source": [
    "# Instantiate Embedding Model\n",
    "\n",
    "The choice of the embedding model is important and depends on the RAG application. Since a specific LLM is trained using a particular embedding model, the choice of LLM in the RAG application dictates the choice of the embedding model. Here is a table of LLM's and their embedding models. \n",
    "\n",
    "| Model                        | Benchmark/Metric          | Performance Highlights                                                                 |\n",
    "|------------------------------|---------------------------|----------------------------------------------------------------------------------------|\n",
    "| SPECTER2                     | SciRepEval                | Outperforms general-purpose models on regression, classification, and re-ranking tasks. |\n",
    "| Snowflake Arctic Embed       | MTEB Retrieval Leaderboard| Ranks first among models of similar size; large model outperforms models with 1B+ parameters. |\n",
    "| Tabular Embedding Model (TEM)| Domain-Specific Performance| Excels in handling high-dimensional datasets, particularly in financial and scientific domains. |\n",
    "| Voyage AI Embedding Models   | RAG Implementation        | High retrieval quality and efficiency in generating accurate responses[4].              |\n",
    "| OpenAI text-embedding-3-large| Embedding Dimensions      | High performance in multi-language retrieval and task-specific accuracy[11].            |\n"
   ]
  },
  {
   "cell_type": "code",
   "execution_count": 3,
   "metadata": {},
   "outputs": [
    {
     "name": "stderr",
     "output_type": "stream",
     "text": [
      "c:\\Users\\evang\\Desktop\\GraduateSchool\\Graduation\\qRAG\\qrag-env\\Lib\\site-packages\\langchain_mistralai\\embeddings.py:105: UserWarning: Could not download mistral tokenizer from Huggingface for calculating batch sizes. Set a Huggingface token via the HF_TOKEN environment variable to download the real tokenizer. Falling back to a dummy tokenizer that uses `len()`.\n",
      "  warnings.warn(\n"
     ]
    }
   ],
   "source": [
    "from langchain_openai import OpenAIEmbeddings\n",
    "from langchain_mistralai import MistralAIEmbeddings\n",
    "\n",
    "openai = OpenAIEmbeddings(model='text-embedding-3-large',api_key=openai_api_key)\n",
    "mistral = MistralAIEmbeddings(\n",
    "    model=\"mistral-embed\",\n",
    "    api_key=mistra_api_key,\n",
    ")\n",
    "# embed_model = FastEmbedEmbeddings(model_name=\"BAAI/bge-base-en-v1.5\")"
   ]
  },
  {
   "cell_type": "markdown",
   "metadata": {},
   "source": [
    "# Instantiate LLM"
   ]
  },
  {
   "cell_type": "code",
   "execution_count": 4,
   "metadata": {},
   "outputs": [],
   "source": [
    "llm = ChatGroq(temperature=0,\n",
    "              # model_name=\"Llama3-70b-8192\",\n",
    "              model_name=\"mixtral-8x7b-32768\",\n",
    "              api_key=groq_api_key)"
   ]
  },
  {
   "cell_type": "markdown",
   "metadata": {},
   "source": [
    "# Import Data (Theses, Papers)\n",
    "\n",
    "Since the data consists of pdf documents, they first need to be parsed, split into chunks, and then embedded. There are multiple packages that can be used to load and parse pdf's, like pdflumber, pypdf, and pymupdf. It seems like pymypdf is the best according to the online literature. Also, pymupdf seems to have extensive documentation and support, unlike pdflumber, including examples of using pymupdf for RAG applications. Neat! \n",
    "\n",
    "If you want to learn more, [https://pymupdf.readthedocs.io/en/latest/index.html](URL)"
   ]
  },
  {
   "cell_type": "code",
   "execution_count": 5,
   "metadata": {},
   "outputs": [
    {
     "name": "stdout",
     "output_type": "stream",
     "text": [
      "Theses\\intro-to-quantum-measurement.pdf\n",
      "Theses\\Mivev-Thesis.pdf\n",
      "Theses\\Schuster-Thesis.pdf\n",
      "Theses\\Schwarz-Thesis.pdf\n",
      "Theses\\Slichter-Thesis.pdf\n",
      "Papers\\oliver-QME.pdf\n",
      "Papers\\qe-guide-scqubits-oliver.pdf\n",
      "Papers\\wendin-review-scqubits.pdf\n"
     ]
    }
   ],
   "source": [
    "theses_paths = get_file_paths(r\"Theses/\")\n",
    "papers_paths = get_file_paths(r\"Papers/\")"
   ]
  },
  {
   "cell_type": "code",
   "execution_count": null,
   "metadata": {},
   "outputs": [],
   "source": [
    "from langchain_community.document_loaders import DirectoryLoader\n",
    "theses = load_pdf_document(theses_paths)\n",
    "papers = load_pdf_document(papers_paths)"
   ]
  },
  {
   "cell_type": "markdown",
   "metadata": {},
   "source": [
    "## Save markdown"
   ]
  },
  {
   "cell_type": "code",
   "execution_count": null,
   "metadata": {},
   "outputs": [],
   "source": [
    "theses[0]"
   ]
  },
  {
   "cell_type": "code",
   "execution_count": null,
   "metadata": {},
   "outputs": [],
   "source": [
    "save_markdown_text(theses,theses_paths)\n",
    "save_markdown_text(papers,papers_paths)"
   ]
  },
  {
   "cell_type": "markdown",
   "metadata": {},
   "source": [
    "## Load Markdown Documents"
   ]
  },
  {
   "cell_type": "code",
   "execution_count": 6,
   "metadata": {},
   "outputs": [
    {
     "name": "stdout",
     "output_type": "stream",
     "text": [
      "Loading markdown text from: Theses\\intro-to-quantum-measurement.md\n",
      "Loading markdown text from: Theses\\Mivev-Thesis.md\n",
      "Loading markdown text from: Theses\\Schuster-Thesis.md\n",
      "Loading markdown text from: Theses\\Schwarz-Thesis.md\n",
      "Loading markdown text from: Theses\\Slichter-Thesis.md\n",
      "Loading markdown text from: Papers\\oliver-QME.md\n",
      "Loading markdown text from: Papers\\qe-guide-scqubits-oliver.md\n",
      "Loading markdown text from: Papers\\wendin-review-scqubits.md\n"
     ]
    }
   ],
   "source": [
    "md_theses = load_markdown_text(theses_paths)\n",
    "md_papers = load_markdown_text(papers_paths)"
   ]
  },
  {
   "cell_type": "markdown",
   "metadata": {},
   "source": [
    "## Split into chunks\n",
    "\n",
    "Documents are split into chunks depending on the headers. Useful metadata such as chunk type (chapter, section, subsection, etc.) and name are created. Further splitting according to meaning is done after that to enchance chunking and group chunks according to similarity in embedding space. This method is better compared to brute-force splitting where the only input parameters are the chunk_size and chunk_overlap. Keep in mind that the final chunk size needs to conform to the size of the embedding model. For more information, here are some useful links.\n",
    "\n",
    "- **Semantic Splitting with Langchain**: https://python.langchain.com/v0.1/docs/modules/data_connection/document_transformers/semantic-chunker/\n",
    "- **Information on how to choose the right embedding model**: https://datasciencedojo.com/blog/choosing-the-right-vector-embedding-model/"
   ]
  },
  {
   "cell_type": "code",
   "execution_count": 7,
   "metadata": {},
   "outputs": [
    {
     "name": "stdout",
     "output_type": "stream",
     "text": [
      "5 documents split into 227 chunks\n",
      "3 documents split into 35 chunks\n"
     ]
    }
   ],
   "source": [
    "# Splitting the documents into chunks based on the headers\n",
    "headers_to_split_thesis_on = [\n",
    "    (\"#\", \"Chapter\"),\n",
    "    (\"##\", \"Section\"),\n",
    "    (\"###\", \"Subsection\"),\n",
    "    (\"####\", \"Subsubsection\"),\n",
    "    (\"#####\", \"Subsubsubsection\"),\n",
    "    # (\"#\"*6, \"Subsubsubsubsection\")\n",
    "]\n",
    "\n",
    "theses_chunks = split_docs(md_theses, headers_to_split_thesis_on)\n",
    "papers_chunks = split_docs(md_papers, headers_to_split_thesis_on)\n",
    "chunks = theses_chunks + papers_chunks"
   ]
  },
  {
   "cell_type": "markdown",
   "metadata": {},
   "source": [
    "**Further Chunking Based on Meaning (Not functional yet)**"
   ]
  },
  {
   "cell_type": "code",
   "execution_count": null,
   "metadata": {},
   "outputs": [],
   "source": [
    "# Splitting documents based on semantic similarity\n",
    "from langchain_experimental.text_splitter import SemanticChunker\n",
    "\n",
    "semantic_text_splitter = text_splitter = SemanticChunker(\n",
    "    OpenAIEmbeddings(), breakpoint_threshold_type=\"interquartile\",\n",
    ")\n",
    "docs = semantic_text_splitter.create_documents(papers_chunks)"
   ]
  },
  {
   "cell_type": "markdown",
   "metadata": {},
   "source": [
    "# Vector Database"
   ]
  },
  {
   "cell_type": "code",
   "execution_count": 8,
   "metadata": {},
   "outputs": [],
   "source": [
    "vectorstore = Chroma.from_documents(documents=chunks,\n",
    "                                    embedding=openai,\n",
    "                                    collection_name=\"local-rag\")"
   ]
  },
  {
   "cell_type": "markdown",
   "metadata": {},
   "source": [
    "# Setup Agents"
   ]
  },
  {
   "cell_type": "code",
   "execution_count": 24,
   "metadata": {},
   "outputs": [
    {
     "name": "stdout",
     "output_type": "stream",
     "text": [
      "Building agent: router\n",
      "Building agent: rag_chain\n",
      "Building agent: retrieval_grader\n",
      "Building agent: hallucination_grader\n",
      "Building agent: answer_grader\n"
     ]
    }
   ],
   "source": [
    "# import time\n",
    "# from langchain.prompts import PromptTemplate\n",
    "# from langchain_core.output_parsers import JsonOutputParser\n",
    "# from langchain_core.output_parsers import StrOutputParser\n",
    "\n",
    "\n",
    "\n",
    "# prompt = PromptTemplate(\n",
    "#     template=\"\"\"<|begin_of_text|><|start_header_id|>system<|end_header_id|> You are an expert at routing a \n",
    "#     user question to a vectorstore or web search. Use the vectorstore for questions on LLM  agents, \n",
    "#     prompt engineering, and adversarial attacks. You do not need to be stringent with the keywords \n",
    "#     in the question related to these topics. Otherwise, use web-search. Give a binary choice 'web_search' \n",
    "#     or 'vectorstore' based on the question. Return the a JSON with a single key 'datasource' and \n",
    "#     no premable or explaination. Question to route: {question} <|eot_id|><|start_header_id|>assistant<|end_header_id|>\"\"\",\n",
    "#     input_variables=[\"question\"],\n",
    "# )\n",
    "# # start = time.time()\n",
    "# question_router = prompt | llm | JsonOutputParser()\n",
    "\n",
    "# prompt = PromptTemplate(\n",
    "#     template=\"\"\"<|begin_of_text|><|start_header_id|>system<|end_header_id|> You are an assistant for question-answering tasks. \n",
    "#     Use the following pieces of retrieved context to answer the question. If you don't know the answer, just say that you don't know. \n",
    "#      <|eot_id|><|start_header_id|>user<|end_header_id|>\n",
    "#     Question: {question} \n",
    "#     Context: {context} \n",
    "#     Answer: <|eot_id|><|start_header_id|>assistant<|end_header_id|>\"\"\",\n",
    "#     input_variables=[\"question\", \"document\"],\n",
    "# )\n",
    "\n",
    "# # Post-processing\n",
    "# def format_docs(docs):\n",
    "#     return \"\\n\\n\".join(doc.page_content for doc in docs)\n",
    "\n",
    "# # Chain\n",
    "# # start = time.time()\n",
    "# rag_chain = prompt | llm | StrOutputParser()\n",
    "\n",
    "# prompt = PromptTemplate(\n",
    "#     template=\"\"\"<|begin_of_text|><|start_header_id|>system<|end_header_id|> You are a grader assessing relevance \n",
    "#     of a retrieved document to a user question. If the document contains keywords related to the user question, \n",
    "#     grade it as relevant. It does not need to be a stringent test. The goal is to filter out erroneous retrievals. \\n\n",
    "#     Give a binary score 'yes' or 'no' score to indicate whether the document is relevant to the question. \\n\n",
    "#     Provide the binary score as a JSON with a single key 'score' and no premable or explaination.\n",
    "#      <|eot_id|><|start_header_id|>user<|end_header_id|>\n",
    "#     Here is the retrieved document: \\n\\n {document} \\n\\n\n",
    "#     Here is the user question: {question} \\n <|eot_id|><|start_header_id|>assistant<|end_header_id|>\n",
    "#     \"\"\",\n",
    "#     input_variables=[\"question\", \"document\"],\n",
    "# )\n",
    "# # start = time.time()\n",
    "# retrieval_grader = prompt | llm | JsonOutputParser()\n",
    "\n",
    "# prompt = PromptTemplate(\n",
    "#     template=\"\"\" <|begin_of_text|><|start_header_id|>system<|end_header_id|> You are a grader assessing whether \n",
    "#     an answer is grounded in / supported by a set of facts. Give a binary 'yes' or 'no' score to indicate \n",
    "#     whether the answer is grounded in / supported by a set of facts. Provide the binary score as a JSON with a \n",
    "#     single key 'score' and no preamble or explanation. <|eot_id|><|start_header_id|>user<|end_header_id|>\n",
    "#     Here are the facts:\n",
    "#     \\n ------- \\n\n",
    "#     {documents} \n",
    "#     \\n ------- \\n\n",
    "#     Here is the answer: {generation}  <|eot_id|><|start_header_id|>assistant<|end_header_id|>\"\"\",\n",
    "#     input_variables=[\"generation\", \"documents\"],\n",
    "# )\n",
    "# # start = time.time()\n",
    "# hallucination_grader = prompt | llm | JsonOutputParser()\n",
    "\n",
    "# prompt = PromptTemplate(\n",
    "#     template=\"\"\"<|begin_of_text|><|start_header_id|>system<|end_header_id|> You are a grader assessing whether an \n",
    "#     answer is useful to resolve a question. Give a binary score 'yes' or 'no' to indicate whether the answer is \n",
    "#     useful to resolve a question. Provide the binary score as a JSON with a single key 'score' and no preamble or explanation.\n",
    "#      <|eot_id|><|start_header_id|>user<|end_header_id|> Here is the answer:\n",
    "#     \\n ------- \\n\n",
    "#     {generation} \n",
    "#     \\n ------- \\n\n",
    "#     Here is the question: {question} <|eot_id|><|start_header_id|>assistant<|end_header_id|>\"\"\",\n",
    "#     input_variables=[\"generation\", \"question\"],\n",
    "# )\n",
    "# # start = time.time()\n",
    "# answer_grader = prompt | llm | JsonOutputParser()\n",
    "from agents import crew, agent_prompts\n",
    "from langchain_community.tools.tavily_search import TavilySearchResults\n",
    "\n",
    "agents = crew(agent_prompts,llm)\n",
    "agents.build_crew()\n",
    "web_search_tool = TavilySearchResults(k=3)"
   ]
  },
  {
   "cell_type": "markdown",
   "metadata": {},
   "source": [
    "# Create Graph"
   ]
  },
  {
   "cell_type": "code",
   "execution_count": 21,
   "metadata": {},
   "outputs": [],
   "source": [
    "# from typing_extensions import TypedDict\n",
    "# from typing import List\n",
    "\n",
    "# ### State\n",
    "\n",
    "# class GraphState(TypedDict):\n",
    "#     question : str\n",
    "#     generation : str\n",
    "#     web_search : str\n",
    "#     documents : List[str]\n",
    "\n",
    "# from langchain.schema import Document\n",
    "# def retrieve(state):\n",
    "#     \"\"\"\n",
    "#     Retrieve documents from vectorstore\n",
    "\n",
    "#     Args:\n",
    "#         state (dict): The current graph state\n",
    "\n",
    "#     Returns:\n",
    "#         state (dict): New key added to state, documents, that contains retrieved documents\n",
    "#     \"\"\"\n",
    "#     print(\"---RETRIEVE---\")\n",
    "#     question = state[\"question\"]\n",
    "\n",
    "#     # Retrieval\n",
    "#     documents = retriever.invoke(question)\n",
    "#     return {\"documents\": documents, \"question\": question}\n",
    "# #\n",
    "# def generate(state):\n",
    "#     \"\"\"\n",
    "#     Generate answer using RAG on retrieved documents\n",
    "\n",
    "#     Args:\n",
    "#         state (dict): The current graph state\n",
    "\n",
    "#     Returns:\n",
    "#         state (dict): New key added to state, generation, that contains LLM generation\n",
    "#     \"\"\"\n",
    "#     print(\"---GENERATE---\")\n",
    "#     question = state[\"question\"]\n",
    "#     documents = state[\"documents\"]\n",
    "    \n",
    "#     # RAG generation\n",
    "#     generation = rag_chain.invoke({\"context\": documents, \"question\": question})\n",
    "#     return {\"documents\": documents, \"question\": question, \"generation\": generation}\n",
    "# #\n",
    "# def grade_documents(state):\n",
    "#     \"\"\"\n",
    "#     Determines whether the retrieved documents are relevant to the question\n",
    "#     If any document is not relevant, we will set a flag to run web search\n",
    "\n",
    "#     Args:\n",
    "#         state (dict): The current graph state\n",
    "\n",
    "#     Returns:\n",
    "#         state (dict): Filtered out irrelevant documents and updated web_search state\n",
    "#     \"\"\"\n",
    "\n",
    "#     print(\"---CHECK DOCUMENT RELEVANCE TO QUESTION---\")\n",
    "#     question = state[\"question\"]\n",
    "#     documents = state[\"documents\"]\n",
    "    \n",
    "#     # Score each doc\n",
    "#     filtered_docs = []\n",
    "#     web_search = \"No\"\n",
    "#     for d in documents:\n",
    "#         score = retrieval_grader.invoke({\"question\": question, \"document\": d.page_content})\n",
    "#         grade = score['score']\n",
    "#         # Document relevant\n",
    "#         if grade.lower() == \"yes\":\n",
    "#             print(\"---GRADE: DOCUMENT RELEVANT---\")\n",
    "#             filtered_docs.append(d)\n",
    "#         # Document not relevant\n",
    "#         else:\n",
    "#             print(\"---GRADE: DOCUMENT NOT RELEVANT---\")\n",
    "#             # We do not include the document in filtered_docs\n",
    "#             # We set a flag to indicate that we want to run web search\n",
    "#             web_search = \"Yes\"\n",
    "#             continue\n",
    "#     return {\"documents\": filtered_docs, \"question\": question, \"web_search\": web_search}\n",
    "# #\n",
    "# def web_search(state):\n",
    "#     \"\"\"\n",
    "#     Web search based based on the question\n",
    "\n",
    "#     Args:\n",
    "#         state (dict): The current graph state\n",
    "\n",
    "#     Returns:\n",
    "#         state (dict): Appended web results to documents\n",
    "#     \"\"\"\n",
    "\n",
    "#     print(\"---WEB SEARCH---\")\n",
    "#     question = state[\"question\"]\n",
    "#     documents = state[\"documents\"]\n",
    "\n",
    "#     # Web search\n",
    "#     docs = web_search_tool.invoke({\"query\": question})\n",
    "#     web_results = \"\\n\".join([d[\"content\"] for d in docs])\n",
    "#     web_results = Document(page_content=web_results)\n",
    "#     if documents is not None:\n",
    "#         documents.append(web_results)\n",
    "#     else:\n",
    "#         documents = [web_results]\n",
    "#     return {\"documents\": documents, \"question\": question}\n",
    "\n",
    "# def route_question(state):\n",
    "#     \"\"\"\n",
    "#     Route question to web search or RAG.\n",
    "\n",
    "#     Args:\n",
    "#         state (dict): The current graph state\n",
    "\n",
    "#     Returns:\n",
    "#         str: Next node to call\n",
    "#     \"\"\"\n",
    "\n",
    "#     print(\"---ROUTE QUESTION---\")\n",
    "#     question = state[\"question\"]\n",
    "#     print(question)\n",
    "#     source = question_router.invoke({\"question\": question})  \n",
    "#     print(source)\n",
    "#     print(source['datasource'])\n",
    "#     if source['datasource'] == 'web_search':\n",
    "#         print(\"---ROUTE QUESTION TO WEB SEARCH---\")\n",
    "#         return \"websearch\"\n",
    "#     elif source['datasource'] == 'vectorstore':\n",
    "#         print(\"---ROUTE QUESTION TO RAG---\")\n",
    "#         return \"vectorstore\"\n",
    "# def decide_to_generate(state):\n",
    "#     \"\"\"\n",
    "#     Determines whether to generate an answer, or add web search\n",
    "\n",
    "#     Args:\n",
    "#         state (dict): The current graph state\n",
    "\n",
    "#     Returns:\n",
    "#         str: Binary decision for next node to call\n",
    "#     \"\"\"\n",
    "\n",
    "#     print(\"---ASSESS GRADED DOCUMENTS---\")\n",
    "#     question = state[\"question\"]\n",
    "#     web_search = state[\"web_search\"]\n",
    "#     filtered_documents = state[\"documents\"]\n",
    "\n",
    "#     if web_search == \"Yes\":\n",
    "#         # All documents have been filtered check_relevance\n",
    "#         # We will re-generate a new query\n",
    "#         print(\"---DECISION: ALL DOCUMENTS ARE NOT RELEVANT TO QUESTION, INCLUDE WEB SEARCH---\")\n",
    "#         return \"websearch\"\n",
    "#     else:\n",
    "#         # We have relevant documents, so generate answer\n",
    "#         print(\"---DECISION: GENERATE---\")\n",
    "#         return \"generate\"\n",
    "    \n",
    "# def grade_generation_v_documents_and_question(state):\n",
    "#     \"\"\"\n",
    "#     Determines whether the generation is grounded in the document and answers question.\n",
    "\n",
    "#     Args:\n",
    "#         state (dict): The current graph state\n",
    "\n",
    "#     Returns:\n",
    "#         str: Decision for next node to call\n",
    "#     \"\"\"\n",
    "\n",
    "#     print(\"---CHECK HALLUCINATIONS---\")\n",
    "#     question = state[\"question\"]\n",
    "#     documents = state[\"documents\"]\n",
    "#     generation = state[\"generation\"]\n",
    "\n",
    "#     score = hallucination_grader.invoke({\"documents\": documents, \"generation\": generation})\n",
    "#     grade = score['score']\n",
    "\n",
    "#     # Check hallucination\n",
    "#     if grade == \"yes\":\n",
    "#         print(\"---DECISION: GENERATION IS GROUNDED IN DOCUMENTS---\")\n",
    "#         # Check question-answering\n",
    "#         print(\"---GRADE GENERATION vs QUESTION---\")\n",
    "#         score = answer_grader.invoke({\"question\": question,\"generation\": generation})\n",
    "#         print(generation)\n",
    "#         grade = score['score']\n",
    "#         if grade == \"yes\":\n",
    "#             print(\"---DECISION: GENERATION ADDRESSES QUESTION---\")\n",
    "#             return \"useful\"\n",
    "#         else:\n",
    "#             print(\"---DECISION: GENERATION DOES NOT ADDRESS QUESTION---\")\n",
    "#             return \"not useful\"\n",
    "#     else:\n",
    "#         pprint(\"---DECISION: GENERATION IS NOT GROUNDED IN DOCUMENTS, RE-TRY---\")\n",
    "#         return \"not supported\"\n",
    "        \n",
    "# from langgraph.graph import END, StateGraph\n",
    "# workflow = StateGraph(GraphState)\n",
    "\n",
    "# # Define the nodes\n",
    "# workflow.add_node(\"retrieve\", retrieve) # retrieve\n",
    "# workflow.add_node(\"websearch\", web_search) # web search\n",
    "# workflow.add_node(\"grade_documents\", grade_documents) # grade documents\n",
    "# workflow.add_node(\"generate\", generate) # generatae\n",
    "\n",
    "# workflow.set_conditional_entry_point(\n",
    "#     route_question,\n",
    "#     {\n",
    "#         \"websearch\": \"websearch\",\n",
    "#         \"vectorstore\": \"retrieve\",\n",
    "#     },\n",
    "# )\n",
    "\n",
    "# workflow.add_edge(\"retrieve\", \"grade_documents\")\n",
    "# workflow.add_conditional_edges(\n",
    "#     \"grade_documents\",\n",
    "#     decide_to_generate,\n",
    "#     {\n",
    "#         \"websearch\": \"websearch\",\n",
    "#         \"generate\": \"generate\",\n",
    "#     },\n",
    "# )\n",
    "# workflow.add_edge(\"websearch\", \"generate\")\n",
    "# workflow.add_conditional_edges(\n",
    "#     \"generate\",\n",
    "#     grade_generation_v_documents_and_question,\n",
    "#     {\n",
    "#         \"not supported\": \"generate\",\n",
    "#         \"useful\": END,\n",
    "#         \"not useful\": \"websearch\",\n",
    "#     },\n",
    "# )\n",
    "from graph import RAG_graph\n",
    "from nodes import nodes\n",
    "\n",
    "# actions = nodes(agents.crew, web_search_tool)\n",
    "rag_graph = RAG_graph(agents.crew, web_search_tool, vectorstore)"
   ]
  },
  {
   "cell_type": "markdown",
   "metadata": {},
   "source": [
    "# Compile & Test Workflow"
   ]
  },
  {
   "cell_type": "code",
   "execution_count": 20,
   "metadata": {},
   "outputs": [
    {
     "data": {
      "text/plain": [
       "{('retrieve',\n",
       "  <bound method nodes.grade_documents of <nodes.nodes object at 0x00000250A1EA6CC0>>),\n",
       " ('websearch',\n",
       "  <bound method nodes.generate of <nodes.nodes object at 0x00000250A1EA6CC0>>)}"
      ]
     },
     "execution_count": 20,
     "metadata": {},
     "output_type": "execute_result"
    }
   ],
   "source": [
    "rag_graph.edges"
   ]
  },
  {
   "cell_type": "code",
   "execution_count": 22,
   "metadata": {},
   "outputs": [],
   "source": [
    "from langchain_core.runnables import RunnableConfig\n",
    "app = rag_graph.compile()\n",
    "config = RunnableConfig(recursion_limit=3)"
   ]
  },
  {
   "cell_type": "code",
   "execution_count": null,
   "metadata": {},
   "outputs": [],
   "source": [
    "type(theses_chunks[1])"
   ]
  },
  {
   "cell_type": "code",
   "execution_count": 23,
   "metadata": {},
   "outputs": [
    {
     "name": "stdout",
     "output_type": "stream",
     "text": [
      "---ROUTE QUESTION---\n",
      "What are the main requirements for being able to detect quantum jumps?\n"
     ]
    },
    {
     "ename": "KeyError",
     "evalue": "'question_router'",
     "output_type": "error",
     "traceback": [
      "\u001b[1;31m---------------------------------------------------------------------------\u001b[0m",
      "\u001b[1;31mKeyError\u001b[0m                                  Traceback (most recent call last)",
      "Cell \u001b[1;32mIn[23], line 3\u001b[0m\n\u001b[0;32m      1\u001b[0m \u001b[38;5;28;01mfrom\u001b[39;00m \u001b[38;5;21;01mpprint\u001b[39;00m \u001b[38;5;28;01mimport\u001b[39;00m pprint\n\u001b[0;32m      2\u001b[0m inputs \u001b[38;5;241m=\u001b[39m {\u001b[38;5;124m\"\u001b[39m\u001b[38;5;124mquestion\u001b[39m\u001b[38;5;124m\"\u001b[39m: \u001b[38;5;124m\"\u001b[39m\u001b[38;5;124mWhat are the main requirements for being able to detect quantum jumps?\u001b[39m\u001b[38;5;124m\"\u001b[39m}\n\u001b[1;32m----> 3\u001b[0m \u001b[38;5;28;43;01mfor\u001b[39;49;00m\u001b[43m \u001b[49m\u001b[43moutput\u001b[49m\u001b[43m \u001b[49m\u001b[38;5;129;43;01min\u001b[39;49;00m\u001b[43m \u001b[49m\u001b[43mapp\u001b[49m\u001b[38;5;241;43m.\u001b[39;49m\u001b[43mstream\u001b[49m\u001b[43m(\u001b[49m\u001b[43minputs\u001b[49m\u001b[43m,\u001b[49m\u001b[43mconfig\u001b[49m\u001b[43m)\u001b[49m\u001b[43m:\u001b[49m\n\u001b[0;32m      4\u001b[0m \u001b[43m    \u001b[49m\u001b[38;5;28;43;01mfor\u001b[39;49;00m\u001b[43m \u001b[49m\u001b[43mkey\u001b[49m\u001b[43m,\u001b[49m\u001b[43m \u001b[49m\u001b[43mvalue\u001b[49m\u001b[43m \u001b[49m\u001b[38;5;129;43;01min\u001b[39;49;00m\u001b[43m \u001b[49m\u001b[43moutput\u001b[49m\u001b[38;5;241;43m.\u001b[39;49m\u001b[43mitems\u001b[49m\u001b[43m(\u001b[49m\u001b[43m)\u001b[49m\u001b[43m:\u001b[49m\n\u001b[0;32m      5\u001b[0m \u001b[43m        \u001b[49m\u001b[43mpprint\u001b[49m\u001b[43m(\u001b[49m\u001b[38;5;124;43mf\u001b[39;49m\u001b[38;5;124;43m\"\u001b[39;49m\u001b[38;5;124;43mFinished running: \u001b[39;49m\u001b[38;5;132;43;01m{\u001b[39;49;00m\u001b[43mkey\u001b[49m\u001b[38;5;132;43;01m}\u001b[39;49;00m\u001b[38;5;124;43m:\u001b[39;49m\u001b[38;5;124;43m\"\u001b[39;49m\u001b[43m)\u001b[49m\n",
      "File \u001b[1;32mc:\\Users\\evang\\Desktop\\GraduateSchool\\Graduation\\qRAG\\qrag-env\\Lib\\site-packages\\langgraph\\pregel\\__init__.py:876\u001b[0m, in \u001b[0;36mPregel.stream\u001b[1;34m(self, input, config, stream_mode, output_keys, input_keys, interrupt_before, interrupt_after, debug)\u001b[0m\n\u001b[0;32m    869\u001b[0m done, inflight \u001b[38;5;241m=\u001b[39m concurrent\u001b[38;5;241m.\u001b[39mfutures\u001b[38;5;241m.\u001b[39mwait(\n\u001b[0;32m    870\u001b[0m     futures,\n\u001b[0;32m    871\u001b[0m     return_when\u001b[38;5;241m=\u001b[39mconcurrent\u001b[38;5;241m.\u001b[39mfutures\u001b[38;5;241m.\u001b[39mFIRST_EXCEPTION,\n\u001b[0;32m    872\u001b[0m     timeout\u001b[38;5;241m=\u001b[39m\u001b[38;5;28mself\u001b[39m\u001b[38;5;241m.\u001b[39mstep_timeout,\n\u001b[0;32m    873\u001b[0m )\n\u001b[0;32m    875\u001b[0m \u001b[38;5;66;03m# panic on failure or timeout\u001b[39;00m\n\u001b[1;32m--> 876\u001b[0m \u001b[43m_panic_or_proceed\u001b[49m\u001b[43m(\u001b[49m\u001b[43mdone\u001b[49m\u001b[43m,\u001b[49m\u001b[43m \u001b[49m\u001b[43minflight\u001b[49m\u001b[43m,\u001b[49m\u001b[43m \u001b[49m\u001b[43mstep\u001b[49m\u001b[43m)\u001b[49m\n\u001b[0;32m    878\u001b[0m \u001b[38;5;66;03m# combine pending writes from all tasks\u001b[39;00m\n\u001b[0;32m    879\u001b[0m pending_writes \u001b[38;5;241m=\u001b[39m deque[\u001b[38;5;28mtuple\u001b[39m[\u001b[38;5;28mstr\u001b[39m, Any]]()\n",
      "File \u001b[1;32mc:\\Users\\evang\\Desktop\\GraduateSchool\\Graduation\\qRAG\\qrag-env\\Lib\\site-packages\\langgraph\\pregel\\__init__.py:1422\u001b[0m, in \u001b[0;36m_panic_or_proceed\u001b[1;34m(done, inflight, step)\u001b[0m\n\u001b[0;32m   1420\u001b[0m             inflight\u001b[38;5;241m.\u001b[39mpop()\u001b[38;5;241m.\u001b[39mcancel()\n\u001b[0;32m   1421\u001b[0m         \u001b[38;5;66;03m# raise the exception\u001b[39;00m\n\u001b[1;32m-> 1422\u001b[0m         \u001b[38;5;28;01mraise\u001b[39;00m exc\n\u001b[0;32m   1424\u001b[0m \u001b[38;5;28;01mif\u001b[39;00m inflight:\n\u001b[0;32m   1425\u001b[0m     \u001b[38;5;66;03m# if we got here means we timed out\u001b[39;00m\n\u001b[0;32m   1426\u001b[0m     \u001b[38;5;28;01mwhile\u001b[39;00m inflight:\n\u001b[0;32m   1427\u001b[0m         \u001b[38;5;66;03m# cancel all pending tasks\u001b[39;00m\n",
      "File \u001b[1;32m~\\scoop\\apps\\python\\current\\Lib\\concurrent\\futures\\thread.py:58\u001b[0m, in \u001b[0;36m_WorkItem.run\u001b[1;34m(self)\u001b[0m\n\u001b[0;32m     55\u001b[0m     \u001b[38;5;28;01mreturn\u001b[39;00m\n\u001b[0;32m     57\u001b[0m \u001b[38;5;28;01mtry\u001b[39;00m:\n\u001b[1;32m---> 58\u001b[0m     result \u001b[38;5;241m=\u001b[39m \u001b[38;5;28;43mself\u001b[39;49m\u001b[38;5;241;43m.\u001b[39;49m\u001b[43mfn\u001b[49m\u001b[43m(\u001b[49m\u001b[38;5;241;43m*\u001b[39;49m\u001b[38;5;28;43mself\u001b[39;49m\u001b[38;5;241;43m.\u001b[39;49m\u001b[43margs\u001b[49m\u001b[43m,\u001b[49m\u001b[43m \u001b[49m\u001b[38;5;241;43m*\u001b[39;49m\u001b[38;5;241;43m*\u001b[39;49m\u001b[38;5;28;43mself\u001b[39;49m\u001b[38;5;241;43m.\u001b[39;49m\u001b[43mkwargs\u001b[49m\u001b[43m)\u001b[49m\n\u001b[0;32m     59\u001b[0m \u001b[38;5;28;01mexcept\u001b[39;00m \u001b[38;5;167;01mBaseException\u001b[39;00m \u001b[38;5;28;01mas\u001b[39;00m exc:\n\u001b[0;32m     60\u001b[0m     \u001b[38;5;28mself\u001b[39m\u001b[38;5;241m.\u001b[39mfuture\u001b[38;5;241m.\u001b[39mset_exception(exc)\n",
      "File \u001b[1;32mc:\\Users\\evang\\Desktop\\GraduateSchool\\Graduation\\qRAG\\qrag-env\\Lib\\site-packages\\langgraph\\pregel\\retry.py:66\u001b[0m, in \u001b[0;36mrun_with_retry\u001b[1;34m(task, retry_policy)\u001b[0m\n\u001b[0;32m     64\u001b[0m task\u001b[38;5;241m.\u001b[39mwrites\u001b[38;5;241m.\u001b[39mclear()\n\u001b[0;32m     65\u001b[0m \u001b[38;5;66;03m# run the task\u001b[39;00m\n\u001b[1;32m---> 66\u001b[0m \u001b[43mtask\u001b[49m\u001b[38;5;241;43m.\u001b[39;49m\u001b[43mproc\u001b[49m\u001b[38;5;241;43m.\u001b[39;49m\u001b[43minvoke\u001b[49m\u001b[43m(\u001b[49m\u001b[43mtask\u001b[49m\u001b[38;5;241;43m.\u001b[39;49m\u001b[43minput\u001b[49m\u001b[43m,\u001b[49m\u001b[43m \u001b[49m\u001b[43mtask\u001b[49m\u001b[38;5;241;43m.\u001b[39;49m\u001b[43mconfig\u001b[49m\u001b[43m)\u001b[49m\n\u001b[0;32m     67\u001b[0m \u001b[38;5;66;03m# if successful, end\u001b[39;00m\n\u001b[0;32m     68\u001b[0m \u001b[38;5;28;01mbreak\u001b[39;00m\n",
      "File \u001b[1;32mc:\\Users\\evang\\Desktop\\GraduateSchool\\Graduation\\qRAG\\qrag-env\\Lib\\site-packages\\langchain_core\\runnables\\base.py:2399\u001b[0m, in \u001b[0;36mRunnableSequence.invoke\u001b[1;34m(self, input, config)\u001b[0m\n\u001b[0;32m   2397\u001b[0m \u001b[38;5;28;01mtry\u001b[39;00m:\n\u001b[0;32m   2398\u001b[0m     \u001b[38;5;28;01mfor\u001b[39;00m i, step \u001b[38;5;129;01min\u001b[39;00m \u001b[38;5;28menumerate\u001b[39m(\u001b[38;5;28mself\u001b[39m\u001b[38;5;241m.\u001b[39msteps):\n\u001b[1;32m-> 2399\u001b[0m         \u001b[38;5;28minput\u001b[39m \u001b[38;5;241m=\u001b[39m \u001b[43mstep\u001b[49m\u001b[38;5;241;43m.\u001b[39;49m\u001b[43minvoke\u001b[49m\u001b[43m(\u001b[49m\n\u001b[0;32m   2400\u001b[0m \u001b[43m            \u001b[49m\u001b[38;5;28;43minput\u001b[39;49m\u001b[43m,\u001b[49m\n\u001b[0;32m   2401\u001b[0m \u001b[43m            \u001b[49m\u001b[38;5;66;43;03m# mark each step as a child run\u001b[39;49;00m\n\u001b[0;32m   2402\u001b[0m \u001b[43m            \u001b[49m\u001b[43mpatch_config\u001b[49m\u001b[43m(\u001b[49m\n\u001b[0;32m   2403\u001b[0m \u001b[43m                \u001b[49m\u001b[43mconfig\u001b[49m\u001b[43m,\u001b[49m\u001b[43m \u001b[49m\u001b[43mcallbacks\u001b[49m\u001b[38;5;241;43m=\u001b[39;49m\u001b[43mrun_manager\u001b[49m\u001b[38;5;241;43m.\u001b[39;49m\u001b[43mget_child\u001b[49m\u001b[43m(\u001b[49m\u001b[38;5;124;43mf\u001b[39;49m\u001b[38;5;124;43m\"\u001b[39;49m\u001b[38;5;124;43mseq:step:\u001b[39;49m\u001b[38;5;132;43;01m{\u001b[39;49;00m\u001b[43mi\u001b[49m\u001b[38;5;241;43m+\u001b[39;49m\u001b[38;5;241;43m1\u001b[39;49m\u001b[38;5;132;43;01m}\u001b[39;49;00m\u001b[38;5;124;43m\"\u001b[39;49m\u001b[43m)\u001b[49m\n\u001b[0;32m   2404\u001b[0m \u001b[43m            \u001b[49m\u001b[43m)\u001b[49m\u001b[43m,\u001b[49m\n\u001b[0;32m   2405\u001b[0m \u001b[43m        \u001b[49m\u001b[43m)\u001b[49m\n\u001b[0;32m   2406\u001b[0m \u001b[38;5;66;03m# finish the root run\u001b[39;00m\n\u001b[0;32m   2407\u001b[0m \u001b[38;5;28;01mexcept\u001b[39;00m \u001b[38;5;167;01mBaseException\u001b[39;00m \u001b[38;5;28;01mas\u001b[39;00m e:\n",
      "File \u001b[1;32mc:\\Users\\evang\\Desktop\\GraduateSchool\\Graduation\\qRAG\\qrag-env\\Lib\\site-packages\\langgraph\\utils.py:95\u001b[0m, in \u001b[0;36mRunnableCallable.invoke\u001b[1;34m(self, input, config)\u001b[0m\n\u001b[0;32m     89\u001b[0m     context\u001b[38;5;241m.\u001b[39mrun(var_child_runnable_config\u001b[38;5;241m.\u001b[39mset, config)\n\u001b[0;32m     90\u001b[0m     kwargs \u001b[38;5;241m=\u001b[39m (\n\u001b[0;32m     91\u001b[0m         {\u001b[38;5;241m*\u001b[39m\u001b[38;5;241m*\u001b[39m\u001b[38;5;28mself\u001b[39m\u001b[38;5;241m.\u001b[39mkwargs, \u001b[38;5;124m\"\u001b[39m\u001b[38;5;124mconfig\u001b[39m\u001b[38;5;124m\"\u001b[39m: config}\n\u001b[0;32m     92\u001b[0m         \u001b[38;5;28;01mif\u001b[39;00m accepts_config(\u001b[38;5;28mself\u001b[39m\u001b[38;5;241m.\u001b[39mfunc)\n\u001b[0;32m     93\u001b[0m         \u001b[38;5;28;01melse\u001b[39;00m \u001b[38;5;28mself\u001b[39m\u001b[38;5;241m.\u001b[39mkwargs\n\u001b[0;32m     94\u001b[0m     )\n\u001b[1;32m---> 95\u001b[0m     ret \u001b[38;5;241m=\u001b[39m \u001b[43mcontext\u001b[49m\u001b[38;5;241;43m.\u001b[39;49m\u001b[43mrun\u001b[49m\u001b[43m(\u001b[49m\u001b[38;5;28;43mself\u001b[39;49m\u001b[38;5;241;43m.\u001b[39;49m\u001b[43mfunc\u001b[49m\u001b[43m,\u001b[49m\u001b[43m \u001b[49m\u001b[38;5;28;43minput\u001b[39;49m\u001b[43m,\u001b[49m\u001b[43m \u001b[49m\u001b[38;5;241;43m*\u001b[39;49m\u001b[38;5;241;43m*\u001b[39;49m\u001b[43mkwargs\u001b[49m\u001b[43m)\u001b[49m\n\u001b[0;32m     96\u001b[0m \u001b[38;5;28;01mif\u001b[39;00m \u001b[38;5;28misinstance\u001b[39m(ret, Runnable) \u001b[38;5;129;01mand\u001b[39;00m \u001b[38;5;28mself\u001b[39m\u001b[38;5;241m.\u001b[39mrecurse:\n\u001b[0;32m     97\u001b[0m     \u001b[38;5;28;01mreturn\u001b[39;00m ret\u001b[38;5;241m.\u001b[39minvoke(\u001b[38;5;28minput\u001b[39m, config)\n",
      "File \u001b[1;32mc:\\Users\\evang\\Desktop\\GraduateSchool\\Graduation\\qRAG\\qrag-env\\Lib\\site-packages\\langgraph\\graph\\graph.py:71\u001b[0m, in \u001b[0;36mBranch._route\u001b[1;34m(self, input, config, reader, writer)\u001b[0m\n\u001b[0;32m     63\u001b[0m \u001b[38;5;28;01mdef\u001b[39;00m \u001b[38;5;21m_route\u001b[39m(\n\u001b[0;32m     64\u001b[0m     \u001b[38;5;28mself\u001b[39m,\n\u001b[0;32m     65\u001b[0m     \u001b[38;5;28minput\u001b[39m: Any,\n\u001b[1;32m   (...)\u001b[0m\n\u001b[0;32m     69\u001b[0m     writer: Callable[[\u001b[38;5;28mlist\u001b[39m[\u001b[38;5;28mstr\u001b[39m]], Optional[Runnable]],\n\u001b[0;32m     70\u001b[0m ) \u001b[38;5;241m-\u001b[39m\u001b[38;5;241m>\u001b[39m Runnable:\n\u001b[1;32m---> 71\u001b[0m     result \u001b[38;5;241m=\u001b[39m \u001b[38;5;28;43mself\u001b[39;49m\u001b[38;5;241;43m.\u001b[39;49m\u001b[43mpath\u001b[49m\u001b[38;5;241;43m.\u001b[39;49m\u001b[43minvoke\u001b[49m\u001b[43m(\u001b[49m\u001b[43mreader\u001b[49m\u001b[43m(\u001b[49m\u001b[43mconfig\u001b[49m\u001b[43m)\u001b[49m\u001b[43m \u001b[49m\u001b[38;5;28;43;01mif\u001b[39;49;00m\u001b[43m \u001b[49m\u001b[43mreader\u001b[49m\u001b[43m \u001b[49m\u001b[38;5;28;43;01melse\u001b[39;49;00m\u001b[43m \u001b[49m\u001b[38;5;28;43minput\u001b[39;49m\u001b[43m,\u001b[49m\u001b[43m \u001b[49m\u001b[43mconfig\u001b[49m\u001b[43m)\u001b[49m\n\u001b[0;32m     72\u001b[0m     \u001b[38;5;28;01mif\u001b[39;00m \u001b[38;5;129;01mnot\u001b[39;00m \u001b[38;5;28misinstance\u001b[39m(result, \u001b[38;5;28mlist\u001b[39m):\n\u001b[0;32m     73\u001b[0m         result \u001b[38;5;241m=\u001b[39m [result]\n",
      "File \u001b[1;32mc:\\Users\\evang\\Desktop\\GraduateSchool\\Graduation\\qRAG\\qrag-env\\Lib\\site-packages\\langgraph\\utils.py:83\u001b[0m, in \u001b[0;36mRunnableCallable.invoke\u001b[1;34m(self, input, config)\u001b[0m\n\u001b[0;32m     77\u001b[0m     \u001b[38;5;28;01mraise\u001b[39;00m \u001b[38;5;167;01mTypeError\u001b[39;00m(\n\u001b[0;32m     78\u001b[0m         \u001b[38;5;124mf\u001b[39m\u001b[38;5;124m'\u001b[39m\u001b[38;5;124mNo synchronous function provided to \u001b[39m\u001b[38;5;124m\"\u001b[39m\u001b[38;5;132;01m{\u001b[39;00m\u001b[38;5;28mself\u001b[39m\u001b[38;5;241m.\u001b[39mname\u001b[38;5;132;01m}\u001b[39;00m\u001b[38;5;124m\"\u001b[39m\u001b[38;5;124m.\u001b[39m\u001b[38;5;124m'\u001b[39m\n\u001b[0;32m     79\u001b[0m         \u001b[38;5;124m\"\u001b[39m\u001b[38;5;130;01m\\n\u001b[39;00m\u001b[38;5;124mEither initialize with a synchronous function or invoke\u001b[39m\u001b[38;5;124m\"\u001b[39m\n\u001b[0;32m     80\u001b[0m         \u001b[38;5;124m\"\u001b[39m\u001b[38;5;124m via the async API (ainvoke, astream, etc.)\u001b[39m\u001b[38;5;124m\"\u001b[39m\n\u001b[0;32m     81\u001b[0m     )\n\u001b[0;32m     82\u001b[0m \u001b[38;5;28;01mif\u001b[39;00m \u001b[38;5;28mself\u001b[39m\u001b[38;5;241m.\u001b[39mtrace:\n\u001b[1;32m---> 83\u001b[0m     ret \u001b[38;5;241m=\u001b[39m \u001b[38;5;28;43mself\u001b[39;49m\u001b[38;5;241;43m.\u001b[39;49m\u001b[43m_call_with_config\u001b[49m\u001b[43m(\u001b[49m\n\u001b[0;32m     84\u001b[0m \u001b[43m        \u001b[49m\u001b[38;5;28;43mself\u001b[39;49m\u001b[38;5;241;43m.\u001b[39;49m\u001b[43mfunc\u001b[49m\u001b[43m,\u001b[49m\u001b[43m \u001b[49m\u001b[38;5;28;43minput\u001b[39;49m\u001b[43m,\u001b[49m\u001b[43m \u001b[49m\u001b[43mmerge_configs\u001b[49m\u001b[43m(\u001b[49m\u001b[38;5;28;43mself\u001b[39;49m\u001b[38;5;241;43m.\u001b[39;49m\u001b[43mconfig\u001b[49m\u001b[43m,\u001b[49m\u001b[43m \u001b[49m\u001b[43mconfig\u001b[49m\u001b[43m)\u001b[49m\u001b[43m,\u001b[49m\u001b[43m \u001b[49m\u001b[38;5;241;43m*\u001b[39;49m\u001b[38;5;241;43m*\u001b[39;49m\u001b[38;5;28;43mself\u001b[39;49m\u001b[38;5;241;43m.\u001b[39;49m\u001b[43mkwargs\u001b[49m\n\u001b[0;32m     85\u001b[0m \u001b[43m    \u001b[49m\u001b[43m)\u001b[49m\n\u001b[0;32m     86\u001b[0m \u001b[38;5;28;01melse\u001b[39;00m:\n\u001b[0;32m     87\u001b[0m     config \u001b[38;5;241m=\u001b[39m merge_configs(\u001b[38;5;28mself\u001b[39m\u001b[38;5;241m.\u001b[39mconfig, config)\n",
      "File \u001b[1;32mc:\\Users\\evang\\Desktop\\GraduateSchool\\Graduation\\qRAG\\qrag-env\\Lib\\site-packages\\langchain_core\\runnables\\base.py:1509\u001b[0m, in \u001b[0;36mRunnable._call_with_config\u001b[1;34m(self, func, input, config, run_type, **kwargs)\u001b[0m\n\u001b[0;32m   1505\u001b[0m     context \u001b[38;5;241m=\u001b[39m copy_context()\n\u001b[0;32m   1506\u001b[0m     context\u001b[38;5;241m.\u001b[39mrun(_set_config_context, child_config)\n\u001b[0;32m   1507\u001b[0m     output \u001b[38;5;241m=\u001b[39m cast(\n\u001b[0;32m   1508\u001b[0m         Output,\n\u001b[1;32m-> 1509\u001b[0m         \u001b[43mcontext\u001b[49m\u001b[38;5;241;43m.\u001b[39;49m\u001b[43mrun\u001b[49m\u001b[43m(\u001b[49m\n\u001b[0;32m   1510\u001b[0m \u001b[43m            \u001b[49m\u001b[43mcall_func_with_variable_args\u001b[49m\u001b[43m,\u001b[49m\u001b[43m  \u001b[49m\u001b[38;5;66;43;03m# type: ignore[arg-type]\u001b[39;49;00m\n\u001b[0;32m   1511\u001b[0m \u001b[43m            \u001b[49m\u001b[43mfunc\u001b[49m\u001b[43m,\u001b[49m\u001b[43m  \u001b[49m\u001b[38;5;66;43;03m# type: ignore[arg-type]\u001b[39;49;00m\n\u001b[0;32m   1512\u001b[0m \u001b[43m            \u001b[49m\u001b[38;5;28;43minput\u001b[39;49m\u001b[43m,\u001b[49m\u001b[43m  \u001b[49m\u001b[38;5;66;43;03m# type: ignore[arg-type]\u001b[39;49;00m\n\u001b[0;32m   1513\u001b[0m \u001b[43m            \u001b[49m\u001b[43mconfig\u001b[49m\u001b[43m,\u001b[49m\n\u001b[0;32m   1514\u001b[0m \u001b[43m            \u001b[49m\u001b[43mrun_manager\u001b[49m\u001b[43m,\u001b[49m\n\u001b[0;32m   1515\u001b[0m \u001b[43m            \u001b[49m\u001b[38;5;241;43m*\u001b[39;49m\u001b[38;5;241;43m*\u001b[39;49m\u001b[43mkwargs\u001b[49m\u001b[43m,\u001b[49m\n\u001b[0;32m   1516\u001b[0m \u001b[43m        \u001b[49m\u001b[43m)\u001b[49m,\n\u001b[0;32m   1517\u001b[0m     )\n\u001b[0;32m   1518\u001b[0m \u001b[38;5;28;01mexcept\u001b[39;00m \u001b[38;5;167;01mBaseException\u001b[39;00m \u001b[38;5;28;01mas\u001b[39;00m e:\n\u001b[0;32m   1519\u001b[0m     run_manager\u001b[38;5;241m.\u001b[39mon_chain_error(e)\n",
      "File \u001b[1;32mc:\\Users\\evang\\Desktop\\GraduateSchool\\Graduation\\qRAG\\qrag-env\\Lib\\site-packages\\langchain_core\\runnables\\config.py:365\u001b[0m, in \u001b[0;36mcall_func_with_variable_args\u001b[1;34m(func, input, config, run_manager, **kwargs)\u001b[0m\n\u001b[0;32m    363\u001b[0m \u001b[38;5;28;01mif\u001b[39;00m run_manager \u001b[38;5;129;01mis\u001b[39;00m \u001b[38;5;129;01mnot\u001b[39;00m \u001b[38;5;28;01mNone\u001b[39;00m \u001b[38;5;129;01mand\u001b[39;00m accepts_run_manager(func):\n\u001b[0;32m    364\u001b[0m     kwargs[\u001b[38;5;124m\"\u001b[39m\u001b[38;5;124mrun_manager\u001b[39m\u001b[38;5;124m\"\u001b[39m] \u001b[38;5;241m=\u001b[39m run_manager\n\u001b[1;32m--> 365\u001b[0m \u001b[38;5;28;01mreturn\u001b[39;00m \u001b[43mfunc\u001b[49m\u001b[43m(\u001b[49m\u001b[38;5;28;43minput\u001b[39;49m\u001b[43m,\u001b[49m\u001b[43m \u001b[49m\u001b[38;5;241;43m*\u001b[39;49m\u001b[38;5;241;43m*\u001b[39;49m\u001b[43mkwargs\u001b[49m\u001b[43m)\u001b[49m\n",
      "File \u001b[1;32mc:\\Users\\evang\\Desktop\\GraduateSchool\\Graduation\\qRAG\\nodes.py:133\u001b[0m, in \u001b[0;36mnodes.route_question\u001b[1;34m(crew, state)\u001b[0m\n\u001b[0;32m    131\u001b[0m question \u001b[38;5;241m=\u001b[39m state[\u001b[38;5;124m\"\u001b[39m\u001b[38;5;124mquestion\u001b[39m\u001b[38;5;124m\"\u001b[39m]\n\u001b[0;32m    132\u001b[0m \u001b[38;5;28mprint\u001b[39m(question)\n\u001b[1;32m--> 133\u001b[0m source \u001b[38;5;241m=\u001b[39m \u001b[43mcrew\u001b[49m\u001b[43m[\u001b[49m\u001b[38;5;124;43m\"\u001b[39;49m\u001b[38;5;124;43mquestion_router\u001b[39;49m\u001b[38;5;124;43m\"\u001b[39;49m\u001b[43m]\u001b[49m\u001b[38;5;241m.\u001b[39minvoke({\u001b[38;5;124m\"\u001b[39m\u001b[38;5;124mquestion\u001b[39m\u001b[38;5;124m\"\u001b[39m: question})  \n\u001b[0;32m    134\u001b[0m \u001b[38;5;28mprint\u001b[39m(source)\n\u001b[0;32m    135\u001b[0m \u001b[38;5;28mprint\u001b[39m(source[\u001b[38;5;124m'\u001b[39m\u001b[38;5;124mdatasource\u001b[39m\u001b[38;5;124m'\u001b[39m])\n",
      "File \u001b[1;32mc:\\Users\\evang\\Desktop\\GraduateSchool\\Graduation\\qRAG\\nodes.py:19\u001b[0m, in \u001b[0;36mnodes.__getitem__\u001b[1;34m(self, key)\u001b[0m\n\u001b[0;32m     18\u001b[0m \u001b[38;5;28;01mdef\u001b[39;00m \u001b[38;5;21m__getitem__\u001b[39m(\u001b[38;5;28mself\u001b[39m, key):\n\u001b[1;32m---> 19\u001b[0m     \u001b[38;5;28;01mreturn\u001b[39;00m \u001b[38;5;28;43mself\u001b[39;49m\u001b[38;5;241;43m.\u001b[39;49m\u001b[43mnode_dict\u001b[49m\u001b[43m[\u001b[49m\u001b[43mkey\u001b[49m\u001b[43m]\u001b[49m\n",
      "\u001b[1;31mKeyError\u001b[0m: 'question_router'"
     ]
    }
   ],
   "source": [
    "from pprint import pprint\n",
    "inputs = {\"question\": \"What are the main requirements for being able to detect quantum jumps?\"}\n",
    "for output in app.stream(inputs,config):\n",
    "    for key, value in output.items():\n",
    "        pprint(f\"Finished running: {key}:\")\n",
    "pprint(value[\"generation\"])"
   ]
  },
  {
   "cell_type": "code",
   "execution_count": null,
   "metadata": {},
   "outputs": [],
   "source": []
  }
 ],
 "metadata": {
  "kernelspec": {
   "display_name": ".venv",
   "language": "python",
   "name": "python3"
  },
  "language_info": {
   "codemirror_mode": {
    "name": "ipython",
    "version": 3
   },
   "file_extension": ".py",
   "mimetype": "text/x-python",
   "name": "python",
   "nbconvert_exporter": "python",
   "pygments_lexer": "ipython3",
   "version": "3.12.3"
  }
 },
 "nbformat": 4,
 "nbformat_minor": 2
}
